{
  "cells": [
    {
      "cell_type": "code",
      "execution_count": 1,
      "metadata": {
        "id": "_BfjlIFnh8Bw"
      },
      "outputs": [],
      "source": [
        "import pandas as pd"
      ]
    },
    {
      "cell_type": "markdown",
      "metadata": {},
      "source": [
        "wget needs to be installed with brew install wget, not pip install"
      ]
    },
    {
      "cell_type": "code",
      "execution_count": 5,
      "metadata": {
        "colab": {
          "base_uri": "https://localhost:8080/"
        },
        "id": "NTzzB7ybjYTy",
        "outputId": "e8e990fa-fb9b-4595-d468-9f7222455c0d"
      },
      "outputs": [
        {
          "name": "stdout",
          "output_type": "stream",
          "text": [
            "--2025-06-20 10:32:32--  https://raw.githubusercontent.com/jinshijian/SoilHealthDB/master/data/SoilHealthDB_V2.csv\n",
            "Resolving raw.githubusercontent.com (raw.githubusercontent.com)... 185.199.111.133, 185.199.109.133, 185.199.110.133, ...\n",
            "Connecting to raw.githubusercontent.com (raw.githubusercontent.com)|185.199.111.133|:443... connected.\n",
            "HTTP request sent, awaiting response... 200 OK\n",
            "Length: 3545298 (3.4M) [application/octet-stream]\n",
            "Saving to: ‘SoilHealthDB_V2.csv.1’\n",
            "\n",
            "SoilHealthDB_V2.csv 100%[===================>]   3.38M  --.-KB/s    in 0.05s   \n",
            "\n",
            "2025-06-20 10:32:32 (63.1 MB/s) - ‘SoilHealthDB_V2.csv.1’ saved [3545298/3545298]\n",
            "\n",
            "   ï»¿StudyID ExperimentID Author_F Author_G  YearPublication  SamplingYear  \\\n",
            "0           1          1-1    Abawi     G.S.             2000           NaN   \n",
            "1           1          1-1    Abawi     G.S.             2000           NaN   \n",
            "2           1          1-2    Abawi     G.S.             2000           NaN   \n",
            "3           1          1-1    Abawi     G.S.             2000           NaN   \n",
            "4           1          1-4    Abawi     G.S.             2000           NaN   \n",
            "\n",
            "                Journal SiteInfor Country  Latitude  ...  Microelement  SQI  \\\n",
            "0  Applied Soil Ecology  New York     USA     40.71  ...           NaN  NaN   \n",
            "1  Applied Soil Ecology  New York     USA     40.71  ...           NaN  NaN   \n",
            "2  Applied Soil Ecology  New York     USA     40.71  ...           NaN  NaN   \n",
            "3  Applied Soil Ecology  New York     USA     40.71  ...           NaN  NaN   \n",
            "4  Applied Soil Ecology  New York     USA     40.71  ...           NaN  NaN   \n",
            "\n",
            "   ESS  Texture_C             Comments1  Comments2 Comments3  Unnamed: 270  \\\n",
            "0  NaN        NaN  Root infected by rot        NaN       NaN           NaN   \n",
            "1  NaN        NaN  Root infected by rot        NaN       NaN           NaN   \n",
            "2  NaN        NaN  Root infected by rot        NaN       NaN           NaN   \n",
            "3  NaN        NaN  Root infected by rot        NaN       NaN           NaN   \n",
            "4  NaN        NaN  Root infected by rot        NaN       NaN           NaN   \n",
            "\n",
            "   Unnamed: 271 Unnamed: 272  \n",
            "0           NaN          NaN  \n",
            "1           NaN          NaN  \n",
            "2           NaN          NaN  \n",
            "3           NaN          NaN  \n",
            "4           NaN          NaN  \n",
            "\n",
            "[5 rows x 273 columns]\n"
          ]
        },
        {
          "name": "stderr",
          "output_type": "stream",
          "text": [
            "/var/folders/1j/14pr84p97pn6v_px_2rn8l_00000gn/T/ipykernel_67355/4172277652.py:7: DtypeWarning: Columns (16,19,20,52,77,122,150,152,160,192,197,212,232,237,242,247,252,262,265,266) have mixed types. Specify dtype option on import or set low_memory=False.\n",
            "  df = pd.read_csv('./data/SoilHealthDB.csv', encoding='latin-1')\n"
          ]
        }
      ],
      "source": [
        "# Download the file first\n",
        "!wget https://raw.githubusercontent.com/jinshijian/SoilHealthDB/master/data/SoilHealthDB_V2.csv\n",
        "\n",
        "# Read the downloaded CSV file\n",
        "df = pd.read_csv('./data/SoilHealthDB.csv', encoding='latin-1')\n",
        "\n",
        "# Display the first few rows to verify\n",
        "print(df.head())"
      ]
    },
    {
      "cell_type": "markdown",
      "metadata": {
        "id": "62qPiSpkpB1b"
      },
      "source": [
        "## cleaning"
      ]
    },
    {
      "cell_type": "markdown",
      "metadata": {
        "id": "EHm3Ftvojwsg"
      },
      "source": [
        "Remove all columns containing 'comment'"
      ]
    },
    {
      "cell_type": "code",
      "execution_count": 6,
      "metadata": {
        "colab": {
          "base_uri": "https://localhost:8080/"
        },
        "id": "BNvqTTapj0Yq",
        "outputId": "8289db95-ede8-491e-94a5-ed930e4d0863"
      },
      "outputs": [
        {
          "name": "stdout",
          "output_type": "stream",
          "text": [
            "   ï»¿StudyID ExperimentID Author_F Author_G  YearPublication  SamplingYear  \\\n",
            "0           1          1-1    Abawi     G.S.             2000           NaN   \n",
            "1           1          1-1    Abawi     G.S.             2000           NaN   \n",
            "2           1          1-2    Abawi     G.S.             2000           NaN   \n",
            "3           1          1-1    Abawi     G.S.             2000           NaN   \n",
            "4           1          1-4    Abawi     G.S.             2000           NaN   \n",
            "\n",
            "                Journal SiteInfor Country  Latitude  ...  MBN_T  MBN_C_SD  \\\n",
            "0  Applied Soil Ecology  New York     USA     40.71  ...    NaN       NaN   \n",
            "1  Applied Soil Ecology  New York     USA     40.71  ...    NaN       NaN   \n",
            "2  Applied Soil Ecology  New York     USA     40.71  ...    NaN       NaN   \n",
            "3  Applied Soil Ecology  New York     USA     40.71  ...    NaN       NaN   \n",
            "4  Applied Soil Ecology  New York     USA     40.71  ...    NaN       NaN   \n",
            "\n",
            "   MBN_T_SD  Microelement  SQI  ESS Texture_C  Unnamed: 270  Unnamed: 271  \\\n",
            "0       NaN           NaN  NaN  NaN       NaN           NaN           NaN   \n",
            "1       NaN           NaN  NaN  NaN       NaN           NaN           NaN   \n",
            "2       NaN           NaN  NaN  NaN       NaN           NaN           NaN   \n",
            "3       NaN           NaN  NaN  NaN       NaN           NaN           NaN   \n",
            "4       NaN           NaN  NaN  NaN       NaN           NaN           NaN   \n",
            "\n",
            "  Unnamed: 272  \n",
            "0          NaN  \n",
            "1          NaN  \n",
            "2          NaN  \n",
            "3          NaN  \n",
            "4          NaN  \n",
            "\n",
            "[5 rows x 232 columns]\n"
          ]
        }
      ],
      "source": [
        "# prompt: remove all columns containing 'comment'\n",
        "\n",
        "columns_to_drop = [col for col in df.columns if 'comment' in col.lower()]\n",
        "df_cleaned = df.drop(columns=columns_to_drop)\n",
        "\n",
        "# Display the first few rows of the cleaned DataFrame\n",
        "print(df_cleaned.head())"
      ]
    },
    {
      "cell_type": "markdown",
      "metadata": {
        "id": "6lMl5PrdjcB5"
      },
      "source": [
        "Remove records that don't have organic carbon data"
      ]
    },
    {
      "cell_type": "code",
      "execution_count": 7,
      "metadata": {
        "colab": {
          "base_uri": "https://localhost:8080/"
        },
        "id": "2k4DsuQjcJwg",
        "outputId": "6ff32c46-6868-452b-a150-a888ca0fe4f2"
      },
      "outputs": [
        {
          "name": "stdout",
          "output_type": "stream",
          "text": [
            "    ï»¿StudyID ExperimentID       Author_F  Author_G  YearPublication  \\\n",
            "11           2          2-1         Bandic      Anna             1999   \n",
            "12           2          2-2         Bandic      Anna             1999   \n",
            "55           4          4-1  Blanco-Canqui  Humberto             2010   \n",
            "56           4          4-2  Blanco-Canqui  Humberto             2010   \n",
            "57           4          4-1  Blanco-Canqui  Humberto             2010   \n",
            "\n",
            "    SamplingYear                                     Journal  \\\n",
            "11        1994.0               Soil Biology and Biochemistry   \n",
            "12        1994.0               Soil Biology and Biochemistry   \n",
            "55        2002.0  Soil and Water Management and Conservation   \n",
            "56        2002.0  Soil and Water Management and Conservation   \n",
            "57        2002.0  Soil and Water Management and Conservation   \n",
            "\n",
            "                                            SiteInfor Country  Latitude  ...  \\\n",
            "11  North  Willamette  Research  and Extension  Ce...     USA     45.23  ...   \n",
            "12  North  Willamette  Research  and Extension  Ce...     USA     45.23  ...   \n",
            "55                                       Hesston,  KS     USA     38.14  ...   \n",
            "56                                       Hesston,  KS     USA     38.14  ...   \n",
            "57                                       Hesston,  KS     USA     38.14  ...   \n",
            "\n",
            "    Microelement  SQI  ESS  Texture_C  \\\n",
            "11           NaN  NaN  NaN        NaN   \n",
            "12           NaN  NaN  NaN        NaN   \n",
            "55           NaN  NaN  NaN        NaN   \n",
            "56           NaN  NaN  NaN        NaN   \n",
            "57           NaN  NaN  NaN        NaN   \n",
            "\n",
            "                                            Comments1  Comments2  \\\n",
            "11                                                NaN        NaN   \n",
            "12                                                NaN        NaN   \n",
            "55  Earthwarm, 4.75-2 mm water stable aggregates, ...        NaN   \n",
            "56  Earthwarm, 4.75-2 mm water stable aggregates, ...        NaN   \n",
            "57  Earthwarm, 4.75-2 mm water stable aggregates, ...        NaN   \n",
            "\n",
            "                         Comments3  Unnamed: 270  Unnamed: 271 Unnamed: 272  \n",
            "11                             NaN           NaN           NaN          NaN  \n",
            "12                             NaN           NaN           NaN          NaN  \n",
            "55  Winter CC (planed in the fall)           NaN           NaN          NaN  \n",
            "56  Winter CC (planed in the fall)           NaN           NaN          NaN  \n",
            "57  Winter CC (planed in the fall)           NaN           NaN          NaN  \n",
            "\n",
            "[5 rows x 273 columns]\n",
            "Original number of rows: 5907\n",
            "Number of rows after filtering: 1573\n"
          ]
        }
      ],
      "source": [
        "# prompt: remove all records that do not contain values for OC__T or OC_C\n",
        "\n",
        "df_filtered = df.dropna(subset=['OC_T', 'OC_C'])\n",
        "\n",
        "print(df_filtered.head())\n",
        "print(f\"Original number of rows: {len(df)}\")\n",
        "print(f\"Number of rows after filtering: {len(df_filtered)}\")\n"
      ]
    },
    {
      "cell_type": "markdown",
      "metadata": {
        "id": "7yaxEVkapNFE"
      },
      "source": [
        "Make new df with only fields that will be input by user about their property (as these are the only ones that can be used to predict the soil carbon of their property).  temperature, precipitation, cover crop (does it use cover crop), landuse type, type of tillage, crop, Elevation. Make sure all are numeric (i.e. use onehotencoder). Not study found texture is largest indicator, but most records don't have texture recorded. SoilFamily might be a substitute? Need to use ControlDescription - combine with cover crop field to indicate whether cover crop or not. i.e. fallow, lupin etc. in one field\n",
        "\n",
        "Fields:\n",
        "- Tannual : annual temperature\n",
        "- Pannual : annual precipitation\n",
        "\n",
        "\n",
        "Fields to be created or used with onehotencoder\n",
        "- Fertilization _C _T : removed as incomplete and messy\n",
        "- Tillage _C _T\n",
        "- CoverCropGroup (LG is legumes, needs to be cleaned)\n",
        "- GrainCropGroup\n",
        "- Conservation_Type"
      ]
    },
    {
      "cell_type": "code",
      "execution_count": 8,
      "metadata": {
        "colab": {
          "base_uri": "https://localhost:8080/"
        },
        "id": "lMtpGasR8NvP",
        "outputId": "968ad154-7f6f-4f8b-b49f-51f8a5876893"
      },
      "outputs": [
        {
          "name": "stdout",
          "output_type": "stream",
          "text": [
            "   Country  Tannual  Pannual   OC_T   OC_C   Tillage_C   Tillage_T  \\\n",
            "11     USA      NaN      NaN  3.430  3.930         NaN         NaN   \n",
            "12     USA      NaN      NaN  4.130  3.930         NaN         NaN   \n",
            "55     USA      NaN      NaN  1.693  1.368  No tillage  No tillage   \n",
            "56     USA      NaN      NaN  1.071  1.031  No tillage  No tillage   \n",
            "57     USA      NaN      NaN  1.816  1.368  No tillage  No tillage   \n",
            "\n",
            "   CoverCropGroup GrainCropGroup Conservation_Type  \n",
            "11            Rye            MTT                CC  \n",
            "12         Legume            MTT                CC  \n",
            "55         Legume             WO             CC-NT  \n",
            "56         Legume             WO             CC-NT  \n",
            "57         Legume             WO             CC-NT  \n"
          ]
        }
      ],
      "source": [
        "# prompt: create new df with fields Tannual, Pannual, Fertilization_C, Fertilization_T, Tillage_C, Tillage_T, CoverCropGroup, GrainCrop, Conservation_Type\n",
        "\n",
        "# Select the desired columns to create the new DataFrame\n",
        "df_new = df_filtered[['Country', 'Tannual', 'Pannual', 'OC_T', 'OC_C', 'Tillage_C', 'Tillage_T', 'CoverCropGroup', 'GrainCropGroup', 'Conservation_Type']].copy()\n",
        "\n",
        "print(df_new.head())"
      ]
    },
    {
      "cell_type": "code",
      "execution_count": 9,
      "metadata": {
        "colab": {
          "base_uri": "https://localhost:8080/"
        },
        "id": "Z4sPMpff9MWW",
        "outputId": "2b049fb1-2e7a-47c2-8f51-80c5ee6672b9"
      },
      "outputs": [
        {
          "name": "stdout",
          "output_type": "stream",
          "text": [
            "Number of rows in df_new: 1573\n"
          ]
        }
      ],
      "source": [
        "# prompt: check how many rows df_new has\n",
        "\n",
        "print(f\"Number of rows in df_new: {len(df_new)}\")"
      ]
    },
    {
      "cell_type": "code",
      "execution_count": null,
      "metadata": {
        "colab": {
          "base_uri": "https://localhost:8080/"
        },
        "id": "eB_lP7PD9Sx_",
        "outputId": "9f989614-d4c3-46c0-d157-9e1ef53bf122"
      },
      "outputs": [
        {
          "name": "stdout",
          "output_type": "stream",
          "text": [
            "Number of NA's in Tannual column: 1156\n",
            "Number of NA's in Pannual column: 1095\n"
          ]
        }
      ],
      "source": [
        "# check how many na's df_new has for Tannual and Pannual\n",
        "\n",
        "print(f\"Number of NA's in Tannual column: {df_new['Tannual'].isnull().sum()}\")\n",
        "print(f\"Number of NA's in Pannual column: {df_new['Pannual'].isnull().sum()}\")\n"
      ]
    },
    {
      "cell_type": "code",
      "execution_count": 11,
      "metadata": {
        "colab": {
          "base_uri": "https://localhost:8080/"
        },
        "id": "rK93-fNVAZyW",
        "outputId": "9c7db96e-fee5-481b-fcd6-6c1229b94d9d"
      },
      "outputs": [
        {
          "name": "stdout",
          "output_type": "stream",
          "text": [
            "    Country  Tannual  Pannual  OC_T  OC_C             Tillage_C  \\\n",
            "424     USA     19.6    976.0  0.74  0.46  Conventional tillage   \n",
            "425     USA     19.6    976.0  0.70  0.46  Conventional tillage   \n",
            "426     USA     19.6    976.0  0.59  0.46  Conventional tillage   \n",
            "427     USA     19.6    976.0  0.73  0.50  Conventional tillage   \n",
            "428     USA     19.6    976.0  0.74  0.50  Conventional tillage   \n",
            "\n",
            "                Tillage_T CoverCropGroup GrainCropGroup Conservation_Type  \n",
            "424  Conservation tillage             LL           Corn                CC  \n",
            "425  Conservation tillage         Legume           Corn                CC  \n",
            "426  Conservation tillage         Legume           Corn                CC  \n",
            "427  Conservation tillage             LL           Corn                CC  \n",
            "428  Conservation tillage         Legume           Corn                CC  \n",
            "Number of rows after removing null Tannual: 417\n",
            "Number of NA's in Tannual column after cleaning: 0\n"
          ]
        }
      ],
      "source": [
        "# remove records where Tannual is null\n",
        "\n",
        "df_new_cleaned = df_new.dropna(subset=['Tannual'])\n",
        "\n",
        "print(df_new_cleaned.head())\n",
        "print(f\"Number of rows after removing null Tannual: {len(df_new_cleaned)}\")\n",
        "print(f\"Number of NA's in Tannual column after cleaning: {df_new_cleaned['Tannual'].isnull().sum()}\")"
      ]
    },
    {
      "cell_type": "code",
      "execution_count": 12,
      "metadata": {
        "colab": {
          "base_uri": "https://localhost:8080/"
        },
        "id": "rGjC36pdAgKF",
        "outputId": "01cf9b3d-c965-4dfd-85d3-c04eb3f9e7c1"
      },
      "outputs": [
        {
          "name": "stdout",
          "output_type": "stream",
          "text": [
            "Number of NA's in Tannual column: 0\n",
            "Number of NA's in Pannual column: 3\n",
            "Number of NA's in Pannual column: 3\n"
          ]
        }
      ],
      "source": [
        "print(f\"Number of NA's in Tannual column: {df_new_cleaned['Tannual'].isnull().sum()}\")\n",
        "print(f\"Number of NA's in Pannual column: {df_new_cleaned['Pannual'].isnull().sum()}\")\n",
        "print(f\"Number of NA's in Pannual column: {df_new_cleaned['CoverCropGroup'].isnull().sum()}\")\n"
      ]
    },
    {
      "cell_type": "code",
      "execution_count": 13,
      "metadata": {
        "colab": {
          "base_uri": "https://localhost:8080/"
        },
        "id": "l3CbFNSBOG8C",
        "outputId": "9557df58-7c9a-450b-d5a2-44e660654f99"
      },
      "outputs": [
        {
          "name": "stdout",
          "output_type": "stream",
          "text": [
            "    Country  Tannual  Pannual  OC_T  OC_C             Tillage_C  \\\n",
            "424     USA     19.6    976.0  0.74  0.46  Conventional tillage   \n",
            "425     USA     19.6    976.0  0.70  0.46  Conventional tillage   \n",
            "426     USA     19.6    976.0  0.59  0.46  Conventional tillage   \n",
            "427     USA     19.6    976.0  0.73  0.50  Conventional tillage   \n",
            "428     USA     19.6    976.0  0.74  0.50  Conventional tillage   \n",
            "\n",
            "                Tillage_T CoverCropGroup GrainCropGroup Conservation_Type  \n",
            "424  Conservation tillage             LL           Corn                CC  \n",
            "425  Conservation tillage         Legume           Corn                CC  \n",
            "426  Conservation tillage         Legume           Corn                CC  \n",
            "427  Conservation tillage             LL           Corn                CC  \n",
            "428  Conservation tillage         Legume           Corn                CC  \n",
            "Number of rows after removing null Pannual: 414\n",
            "Number of NA's in Pannual column after cleaning: 0\n"
          ]
        }
      ],
      "source": [
        "# drop the records with Pannual of null\n",
        "\n",
        "df_new_cleaned = df_new_cleaned.dropna(subset=['Pannual'])\n",
        "\n",
        "print(df_new_cleaned.head())\n",
        "print(f\"Number of rows after removing null Pannual: {len(df_new_cleaned)}\")\n",
        "print(f\"Number of NA's in Pannual column after cleaning: {df_new_cleaned['Pannual'].isnull().sum()}\")"
      ]
    },
    {
      "cell_type": "code",
      "execution_count": 14,
      "metadata": {
        "colab": {
          "base_uri": "https://localhost:8080/",
          "height": 220
        },
        "id": "rKTfACCaOvrs",
        "outputId": "54f42347-5238-4e17-dbac-3d4626dfd1ad"
      },
      "outputs": [
        {
          "name": "stdout",
          "output_type": "stream",
          "text": [
            "Counts of each Conservation_Type:\n"
          ]
        },
        {
          "data": {
            "text/plain": [
              "Conservation_Type\n",
              "CC       277\n",
              "CC-NT    124\n",
              "OF-CC     13\n",
              "Name: count, dtype: int64"
            ]
          },
          "execution_count": 14,
          "metadata": {},
          "output_type": "execute_result"
        }
      ],
      "source": [
        "# count conservation_Type\n",
        "\n",
        "conservation_type_counts = df_new_cleaned['Conservation_Type'].value_counts()\n",
        "print(\"Counts of each Conservation_Type:\")\n",
        "conservation_type_counts"
      ]
    },
    {
      "cell_type": "markdown",
      "metadata": {
        "id": "sDTcrxID_92R"
      },
      "source": [
        "So much temperature and precipitation data is missing, test using country instead compared to using much lower amount of records with Tannual and Pannual data. Later version can get an estimate of these values from the lat/long to use more of the data."
      ]
    },
    {
      "cell_type": "code",
      "execution_count": 15,
      "metadata": {
        "colab": {
          "base_uri": "https://localhost:8080/"
        },
        "id": "jieNwInbPbUx",
        "outputId": "3921c333-333f-4a8e-8046-1bd911467714"
      },
      "outputs": [
        {
          "name": "stdout",
          "output_type": "stream",
          "text": [
            "  Country  Tannual  Pannual    OC               Tillage CoverCropGroup  \\\n",
            "0     USA     19.6    976.0  0.74  Conservation tillage             LL   \n",
            "1     USA     19.6    976.0  0.70  Conservation tillage         Legume   \n",
            "2     USA     19.6    976.0  0.59  Conservation tillage         Legume   \n",
            "3     USA     19.6    976.0  0.73  Conservation tillage             LL   \n",
            "4     USA     19.6    976.0  0.74  Conservation tillage         Legume   \n",
            "\n",
            "  GrainCropGroup Conservation_Type Type  \n",
            "0           Corn                CC   _T  \n",
            "1           Corn                CC   _T  \n",
            "2           Corn                CC   _T  \n",
            "3           Corn                CC   _T  \n",
            "4           Corn                CC   _T  \n",
            "    Country  Tannual  Pannual    OC              Tillage CoverCropGroup  \\\n",
            "823     USA     17.3   1958.0  0.87  Traditional tillage           None   \n",
            "824     USA     17.3   1958.0  0.86  Traditional tillage           None   \n",
            "825     USA     17.3   1958.0  0.90  Traditional tillage           None   \n",
            "826     USA     17.3   1958.0  0.35  Traditional tillage           None   \n",
            "827     USA     17.3   1958.0  1.49  Traditional tillage           None   \n",
            "\n",
            "    GrainCropGroup Conservation_Type Type  \n",
            "823            AVG              None   _C  \n",
            "824            AVG              None   _C  \n",
            "825            AVG              None   _C  \n",
            "826            AVG              None   _C  \n",
            "827            AVG              None   _C  \n",
            "Number of rows in combined DataFrame: 828\n",
            "Number of rows in df_new_cleaned: 414\n"
          ]
        }
      ],
      "source": [
        "# duplicate records to have all fields with '_T' in seperate records to '_C'. CoverCropGroup and Conservation_Type should be 'None' for all '_C' records\n",
        "\n",
        "# Duplicate records for '_T' and '_C'\n",
        "df_t = df_new_cleaned.copy()\n",
        "df_c = df_new_cleaned.copy()\n",
        "\n",
        "# Rename columns for '_T' records\n",
        "df_t.rename(columns={'OC_T': 'OC',\n",
        "                     'Tillage_T': 'Tillage'}, inplace=True)\n",
        "df_t = df_t.drop(columns=['OC_C', 'Tillage_C'])\n",
        "df_t['Type'] = '_T'\n",
        "\n",
        "\n",
        "# Rename columns for '_C' records and set 'CoverCropGroup' and 'Conservation_Type' to None\n",
        "df_c.rename(columns={'OC_C': 'OC',\n",
        "                     'Tillage_C': 'Tillage'}, inplace=True)\n",
        "df_c = df_c.drop(columns=['OC_T', 'Tillage_T'])\n",
        "df_c['Type'] = '_C'\n",
        "df_c['CoverCropGroup'] = 'None'\n",
        "df_c['Conservation_Type'] = 'None'\n",
        "\n",
        "\n",
        "# Concatenate the two dataframes\n",
        "df_combined = pd.concat([df_t, df_c], ignore_index=True)\n",
        "\n",
        "# Display the first few rows of the combined DataFrame\n",
        "print(df_combined.head())\n",
        "print(df_combined.tail())\n",
        "\n",
        "# Check the number of rows in the combined DataFrame\n",
        "print(f\"Number of rows in combined DataFrame: {len(df_combined)}\")\n",
        "print(f\"Number of rows in df_new_cleaned: {len(df_new_cleaned)}\")"
      ]
    },
    {
      "cell_type": "code",
      "execution_count": 16,
      "metadata": {
        "colab": {
          "base_uri": "https://localhost:8080/"
        },
        "id": "9ETijGUMQuow",
        "outputId": "68c0882f-4193-42c0-ce5e-50a6c5b10d57"
      },
      "outputs": [
        {
          "name": "stdout",
          "output_type": "stream",
          "text": [
            "['Corn' 'Arable' 'Soybean' 'CS' 'Vegetable' 'CV' 'CO' 'MTT' 'CW' 'Wheat'\n",
            " 'WO' 'AVG']\n"
          ]
        }
      ],
      "source": [
        "# list unique values of GrainCropGroup\n",
        "\n",
        "print(df_combined['GrainCropGroup'].unique())"
      ]
    },
    {
      "cell_type": "code",
      "execution_count": 17,
      "metadata": {
        "colab": {
          "base_uri": "https://localhost:8080/"
        },
        "id": "m9SOHR5kd0Br",
        "outputId": "33b7dc45-5fcc-4ff8-c796-3a400184ab6f"
      },
      "outputs": [
        {
          "name": "stdout",
          "output_type": "stream",
          "text": [
            "['Conservation tillage' 'no tillage' nan 'spring tillage'\n",
            " 'conventional tillage' 'Strip tillage' 'Chisel tillage'\n",
            " 'no tillage/chisel plowing/moldboard plowing mixed' 'chisel plowing'\n",
            " 'moldboard plowing mixed' 'No tillage' 'CT' 'no data' 'No till'\n",
            " 'No-tillage' 'Conservational tillage' 'Conventional tillage'\n",
            " 'CT / NT (not clear which one, influence found to be not significant)'\n",
            " 'Disc till' 'Harrowing' 'mouldboard ploughing' 'Traditional tillage']\n"
          ]
        }
      ],
      "source": [
        "# list unique tillage types\n",
        "\n",
        "print(df_combined['Tillage'].unique())"
      ]
    },
    {
      "cell_type": "code",
      "execution_count": 18,
      "metadata": {
        "colab": {
          "base_uri": "https://localhost:8080/"
        },
        "id": "HY4aTF7bbLxl",
        "outputId": "5c0d8edd-ab54-478b-917d-d44229c41460"
      },
      "outputs": [
        {
          "name": "stdout",
          "output_type": "stream",
          "text": [
            "Number of NA's in Tillage column: 101\n"
          ]
        }
      ],
      "source": [
        "print(f\"Number of NA's in Tillage column: {df_combined['Tillage'].isnull().sum()}\")"
      ]
    },
    {
      "cell_type": "code",
      "execution_count": 19,
      "metadata": {
        "colab": {
          "base_uri": "https://localhost:8080/"
        },
        "id": "_L1g2NXTfEKo",
        "outputId": "09fcfec9-30ad-4b77-c835-04727ff93e89"
      },
      "outputs": [
        {
          "name": "stdout",
          "output_type": "stream",
          "text": [
            "Number of 'no data' records for Tillage: 13\n"
          ]
        }
      ],
      "source": [
        "# prompt: check how many 'no data' records there are for Tillage\n",
        "\n",
        "print(f\"Number of 'no data' records for Tillage: {(df_combined['Tillage'] == 'no data').sum()}\")"
      ]
    },
    {
      "cell_type": "markdown",
      "metadata": {
        "id": "tk5VzbdhgTTY"
      },
      "source": [
        "For Tillage, null values, and 'no data' can be changed to Unknown. Fertilization needs to be cleaned, but the data is confusing and incomplete, so I will try the analysis without this field."
      ]
    },
    {
      "cell_type": "code",
      "execution_count": 20,
      "metadata": {
        "colab": {
          "base_uri": "https://localhost:8080/"
        },
        "id": "RCBaj5eVg7My",
        "outputId": "96192a43-d264-4c61-9e2c-9446b6e08a78"
      },
      "outputs": [
        {
          "name": "stdout",
          "output_type": "stream",
          "text": [
            "['Conservation tillage' 'no tillage' 'Unknown' 'spring tillage'\n",
            " 'conventional tillage' 'Strip tillage' 'Chisel tillage'\n",
            " 'no tillage/chisel plowing/moldboard plowing mixed' 'chisel plowing'\n",
            " 'moldboard plowing mixed' 'No tillage' 'CT' 'No till' 'No-tillage'\n",
            " 'Conservational tillage' 'Conventional tillage'\n",
            " 'CT / NT (not clear which one, influence found to be not significant)'\n",
            " 'Disc till' 'Harrowing' 'mouldboard ploughing' 'Traditional tillage']\n",
            "Number of 'Unknown' records for Tillage after cleaning: 114\n"
          ]
        }
      ],
      "source": [
        "# prompt: make all null and 'no data' records for Tillage as 'Unknown'\n",
        "\n",
        "df_combined['Tillage'] = df_combined['Tillage'].fillna('Unknown')\n",
        "df_combined['Tillage'] = df_combined['Tillage'].replace('no data', 'Unknown')\n",
        "\n",
        "print(df_combined['Tillage'].unique())\n",
        "print(f\"Number of 'Unknown' records for Tillage after cleaning: {(df_combined['Tillage'] == 'Unknown').sum()}\")"
      ]
    },
    {
      "cell_type": "code",
      "execution_count": 21,
      "metadata": {
        "colab": {
          "base_uri": "https://localhost:8080/"
        },
        "id": "Q1FzWZvmhoOr",
        "outputId": "b2ce0397-a0c7-489c-bd26-cdb71d40a24d"
      },
      "outputs": [
        {
          "name": "stdout",
          "output_type": "stream",
          "text": [
            "['Conservation tillage' 'None' 'Unknown' 'spring tillage'\n",
            " 'conventional tillage' 'Strip tillage' 'Chisel tillage'\n",
            " 'no tillage/chisel plowing/moldboard plowing mixed' 'chisel plowing'\n",
            " 'moldboard plowing mixed' 'CT' 'Conservational tillage'\n",
            " 'Conventional tillage' 'Disc till' 'Harrowing' 'mouldboard ploughing'\n",
            " 'Traditional tillage']\n"
          ]
        }
      ],
      "source": [
        "# prompt: Make 'no tillage', 'No tillage', 'No till', 'No-tillage', 'CT / NT', as ''None'\n",
        "\n",
        "tillage_replacements = {\n",
        "    'no tillage': 'None',\n",
        "    'No tillage': 'None',\n",
        "    'No till': 'None',\n",
        "    'No-tillage': 'None',\n",
        "    'CT / NT (not clear which one, influence found to be not significant)': 'None'\n",
        "}\n",
        "\n",
        "df_combined['Tillage'] = df_combined['Tillage'].replace(tillage_replacements)\n",
        "\n",
        "print(df_combined['Tillage'].unique())\n"
      ]
    },
    {
      "cell_type": "code",
      "execution_count": 27,
      "metadata": {
        "colab": {
          "base_uri": "https://localhost:8080/"
        },
        "id": "-VzY4gGtjTLn",
        "outputId": "0264c6f9-efcf-41bb-ef27-e81b331fdfee"
      },
      "outputs": [
        {
          "name": "stdout",
          "output_type": "stream",
          "text": [
            "['Reduced' 'No' 'Unknown' 'Conventional']\n"
          ]
        }
      ],
      "source": [
        "conventional_replacements = {\n",
        "    'spring tillage': 'Conventional',\n",
        "    'conventional tillage': 'Conventional',\n",
        "    'moldboard plowing mixed': 'Conventional',\n",
        "    'CT': 'Conventional',\n",
        "    'Conventional tillage':'Conventional',\n",
        "    'Disc till':'Conventional',\n",
        "    'Harrowing':'Conventional',\n",
        "    'mouldboard ploughing':'Conventional',\n",
        "    'Traditional tillage':'Conventional'\n",
        "}\n",
        "\n",
        "reduced_replacements = {\n",
        "    'Conservation tillage': 'Reduced',\n",
        "    'Strip tillage': 'Reduced',\n",
        "    'Chisel tillage': 'Reduced',\n",
        "    'no tillage/chisel plowing/moldboard plowing mixed': 'Reduced',\n",
        "    'chisel plowing':'Reduced',\n",
        "    'Conservational tillage':'Reduced'\n",
        "}\n",
        "\n",
        "df_combined['Tillage'] = df_combined['Tillage'].replace(conventional_replacements)\n",
        "df_combined['Tillage'] = df_combined['Tillage'].replace(reduced_replacements)\n",
        "df_combined['Tillage'] = df_combined['Tillage'].replace('None', 'No')\n",
        "\n",
        "print(df_combined['Tillage'].unique())"
      ]
    },
    {
      "cell_type": "code",
      "execution_count": 23,
      "metadata": {
        "colab": {
          "base_uri": "https://localhost:8080/",
          "height": 221
        },
        "id": "QLro1otNlhmN",
        "outputId": "4f28d29a-6af6-4ece-d1d7-5cb5a91c670c"
      },
      "outputs": [
        {
          "data": {
            "text/html": [
              "<div>\n",
              "<style scoped>\n",
              "    .dataframe tbody tr th:only-of-type {\n",
              "        vertical-align: middle;\n",
              "    }\n",
              "\n",
              "    .dataframe tbody tr th {\n",
              "        vertical-align: top;\n",
              "    }\n",
              "\n",
              "    .dataframe thead th {\n",
              "        text-align: right;\n",
              "    }\n",
              "</style>\n",
              "<table border=\"1\" class=\"dataframe\">\n",
              "  <thead>\n",
              "    <tr style=\"text-align: right;\">\n",
              "      <th></th>\n",
              "      <th>Country</th>\n",
              "      <th>Tannual</th>\n",
              "      <th>Pannual</th>\n",
              "      <th>OC</th>\n",
              "      <th>Tillage</th>\n",
              "      <th>CoverCropGroup</th>\n",
              "      <th>GrainCropGroup</th>\n",
              "      <th>Conservation_Type</th>\n",
              "      <th>Type</th>\n",
              "    </tr>\n",
              "  </thead>\n",
              "  <tbody>\n",
              "    <tr>\n",
              "      <th>0</th>\n",
              "      <td>USA</td>\n",
              "      <td>19.6</td>\n",
              "      <td>976.0</td>\n",
              "      <td>0.74</td>\n",
              "      <td>Reduced</td>\n",
              "      <td>LL</td>\n",
              "      <td>Corn</td>\n",
              "      <td>CC</td>\n",
              "      <td>_T</td>\n",
              "    </tr>\n",
              "    <tr>\n",
              "      <th>1</th>\n",
              "      <td>USA</td>\n",
              "      <td>19.6</td>\n",
              "      <td>976.0</td>\n",
              "      <td>0.70</td>\n",
              "      <td>Reduced</td>\n",
              "      <td>Legume</td>\n",
              "      <td>Corn</td>\n",
              "      <td>CC</td>\n",
              "      <td>_T</td>\n",
              "    </tr>\n",
              "    <tr>\n",
              "      <th>2</th>\n",
              "      <td>USA</td>\n",
              "      <td>19.6</td>\n",
              "      <td>976.0</td>\n",
              "      <td>0.59</td>\n",
              "      <td>Reduced</td>\n",
              "      <td>Legume</td>\n",
              "      <td>Corn</td>\n",
              "      <td>CC</td>\n",
              "      <td>_T</td>\n",
              "    </tr>\n",
              "    <tr>\n",
              "      <th>3</th>\n",
              "      <td>USA</td>\n",
              "      <td>19.6</td>\n",
              "      <td>976.0</td>\n",
              "      <td>0.73</td>\n",
              "      <td>Reduced</td>\n",
              "      <td>LL</td>\n",
              "      <td>Corn</td>\n",
              "      <td>CC</td>\n",
              "      <td>_T</td>\n",
              "    </tr>\n",
              "    <tr>\n",
              "      <th>4</th>\n",
              "      <td>USA</td>\n",
              "      <td>19.6</td>\n",
              "      <td>976.0</td>\n",
              "      <td>0.74</td>\n",
              "      <td>Reduced</td>\n",
              "      <td>Legume</td>\n",
              "      <td>Corn</td>\n",
              "      <td>CC</td>\n",
              "      <td>_T</td>\n",
              "    </tr>\n",
              "  </tbody>\n",
              "</table>\n",
              "</div>"
            ],
            "text/plain": [
              "  Country  Tannual  Pannual    OC  Tillage CoverCropGroup GrainCropGroup  \\\n",
              "0     USA     19.6    976.0  0.74  Reduced             LL           Corn   \n",
              "1     USA     19.6    976.0  0.70  Reduced         Legume           Corn   \n",
              "2     USA     19.6    976.0  0.59  Reduced         Legume           Corn   \n",
              "3     USA     19.6    976.0  0.73  Reduced             LL           Corn   \n",
              "4     USA     19.6    976.0  0.74  Reduced         Legume           Corn   \n",
              "\n",
              "  Conservation_Type Type  \n",
              "0                CC   _T  \n",
              "1                CC   _T  \n",
              "2                CC   _T  \n",
              "3                CC   _T  \n",
              "4                CC   _T  "
            ]
          },
          "execution_count": 23,
          "metadata": {},
          "output_type": "execute_result"
        }
      ],
      "source": [
        "df_combined.head(5)"
      ]
    },
    {
      "cell_type": "code",
      "execution_count": 24,
      "metadata": {
        "colab": {
          "base_uri": "https://localhost:8080/"
        },
        "id": "GH0Hd5l3lp1y",
        "outputId": "49506abf-2703-4809-aa2b-33c9d453d63e"
      },
      "outputs": [
        {
          "name": "stdout",
          "output_type": "stream",
          "text": [
            "['LL' 'Legume' 'Rye' 'Grass' 'Brassica' 'LG' 'Mixed' 'BG' 'Not_available'\n",
            " 'AVG' 'None']\n"
          ]
        }
      ],
      "source": [
        "print(df_combined['CoverCropGroup'].unique())"
      ]
    },
    {
      "cell_type": "markdown",
      "metadata": {
        "id": "vFpHbfo_mHEb"
      },
      "source": [
        "LL is Legume;\n",
        "LG, BG, and AVG are Mixed;\n",
        "Not_available is Unknown (consistent with Tillage);\n",
        "None becomes nan when reading in dataset, so change to 'No'"
      ]
    },
    {
      "cell_type": "code",
      "execution_count": 26,
      "metadata": {
        "colab": {
          "base_uri": "https://localhost:8080/"
        },
        "id": "D6bMhBl1mBNF",
        "outputId": "abdf06cf-68b9-45b9-f59e-7b553f128f06"
      },
      "outputs": [
        {
          "name": "stdout",
          "output_type": "stream",
          "text": [
            "['Legume' 'Rye' 'Grass' 'Brassica' 'Mixed' 'Unknown' 'No']\n"
          ]
        }
      ],
      "source": [
        "df_combined['CoverCropGroup'] = df_combined['CoverCropGroup'].replace('LL', 'Legume')\n",
        "df_combined['CoverCropGroup'] = df_combined['CoverCropGroup'].replace(['LG', 'BG', 'AVG'], 'Mixed')\n",
        "df_combined['CoverCropGroup'] = df_combined['CoverCropGroup'].replace('Not_available', 'Unknown')\n",
        "df_combined['CoverCropGroup'] = df_combined['CoverCropGroup'].replace('None', 'No')\n",
        "\n",
        "print(df_combined['CoverCropGroup'].unique())\n"
      ]
    },
    {
      "cell_type": "code",
      "execution_count": 28,
      "metadata": {
        "colab": {
          "base_uri": "https://localhost:8080/"
        },
        "id": "Fxvm2FtlmiSA",
        "outputId": "f64c91b8-dc78-4954-cf21-cf10726b3301"
      },
      "outputs": [
        {
          "name": "stdout",
          "output_type": "stream",
          "text": [
            "['Corn' 'Arable' 'Soybean' 'CS' 'Vegetable' 'CV' 'CO' 'MTT' 'CW' 'Wheat'\n",
            " 'WO' 'AVG']\n"
          ]
        }
      ],
      "source": [
        "print(df_combined['GrainCropGroup'].unique())"
      ]
    },
    {
      "cell_type": "markdown",
      "metadata": {
        "id": "8h1M__WonOlG"
      },
      "source": [
        "Monoculture: Corn, Soybean, Wheat, Arable\n",
        "Mono-Rotation: CS, CO, MTT, CW, WO\n",
        "Unknown: AVG\n"
      ]
    },
    {
      "cell_type": "code",
      "execution_count": null,
      "metadata": {
        "colab": {
          "base_uri": "https://localhost:8080/"
        },
        "id": "6v8aW53CnxpW",
        "outputId": "aafd8b66-0782-4785-9f30-3904c9d4f799"
      },
      "outputs": [
        {
          "name": "stdout",
          "output_type": "stream",
          "text": [
            "['Monoculture' 'Monoculture-rotation' 'Vegetable' 'Unknown']\n"
          ]
        }
      ],
      "source": [
        "df_combined['GrainCropGroup'] = df_combined['GrainCropGroup'].replace(['Corn', 'Soybean', 'Wheat','Arable'], 'Grain')\n",
        "df_combined['GrainCropGroup'] = df_combined['GrainCropGroup'].replace(['CS', 'CO', 'MTT', 'CW', 'WO'], 'Grain-rotation')\n",
        "df_combined['GrainCropGroup'] = df_combined['GrainCropGroup'].replace('AVG', 'Unknown')\n",
        "df_combined['GrainCropGroup'] = df_combined['GrainCropGroup'].replace('CV', 'Vegetable')\n",
        "\n",
        "\n",
        "print(df_combined['GrainCropGroup'].unique())"
      ]
    },
    {
      "cell_type": "code",
      "execution_count": 33,
      "metadata": {},
      "outputs": [],
      "source": [
        "df_combined.to_csv('data/soc_dataset.csv', index=False)"
      ]
    }
  ],
  "metadata": {
    "colab": {
      "provenance": []
    },
    "kernelspec": {
      "display_name": ".venv",
      "language": "python",
      "name": "python3"
    },
    "language_info": {
      "codemirror_mode": {
        "name": "ipython",
        "version": 3
      },
      "file_extension": ".py",
      "mimetype": "text/x-python",
      "name": "python",
      "nbconvert_exporter": "python",
      "pygments_lexer": "ipython3",
      "version": "3.12.7"
    }
  },
  "nbformat": 4,
  "nbformat_minor": 0
}
