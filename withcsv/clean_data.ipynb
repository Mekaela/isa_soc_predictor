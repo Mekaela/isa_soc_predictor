{
  "nbformat": 4,
  "nbformat_minor": 0,
  "metadata": {
    "colab": {
      "provenance": []
    },
    "kernelspec": {
      "name": "python3",
      "display_name": "Python 3"
    },
    "language_info": {
      "name": "python"
    }
  },
  "cells": [
    {
      "cell_type": "code",
      "execution_count": null,
      "metadata": {
        "id": "_BfjlIFnh8Bw"
      },
      "outputs": [],
      "source": [
        "import pandas as pd"
      ]
    },
    {
      "cell_type": "code",
      "source": [
        "# prompt: read csv from here: https://github.com/jinshijian/SoilHealthDB/blob/master/data/SoilHealthDB_V2.csv\n",
        "\n",
        "# Download the file first\n",
        "!wget https://raw.githubusercontent.com/jinshijian/SoilHealthDB/master/data/SoilHealthDB_V2.csv\n",
        "\n",
        "# Read the downloaded CSV file\n",
        "df = pd.read_csv('SoilHealthDB_V2.csv', encoding='latin-1')\n",
        "\n",
        "# Display the first few rows to verify\n",
        "print(df.head())"
      ],
      "metadata": {
        "colab": {
          "base_uri": "https://localhost:8080/"
        },
        "id": "NTzzB7ybjYTy",
        "outputId": "e8e990fa-fb9b-4595-d468-9f7222455c0d"
      },
      "execution_count": null,
      "outputs": [
        {
          "output_type": "stream",
          "name": "stdout",
          "text": [
            "--2025-06-12 11:41:37--  https://raw.githubusercontent.com/jinshijian/SoilHealthDB/master/data/SoilHealthDB_V2.csv\n",
            "Resolving raw.githubusercontent.com (raw.githubusercontent.com)... 185.199.109.133, 185.199.111.133, 185.199.108.133, ...\n",
            "Connecting to raw.githubusercontent.com (raw.githubusercontent.com)|185.199.109.133|:443... connected.\n",
            "HTTP request sent, awaiting response... 200 OK\n",
            "Length: 3545298 (3.4M) [application/octet-stream]\n",
            "Saving to: ‘SoilHealthDB_V2.csv’\n",
            "\n",
            "SoilHealthDB_V2.csv 100%[===================>]   3.38M  --.-KB/s    in 0.09s   \n",
            "\n",
            "2025-06-12 11:41:37 (37.5 MB/s) - ‘SoilHealthDB_V2.csv’ saved [3545298/3545298]\n",
            "\n"
          ]
        },
        {
          "output_type": "stream",
          "name": "stderr",
          "text": [
            "<ipython-input-3-4129539283>:7: DtypeWarning: Columns (16,19,20,24,25,52,77,122,150,152,160,192,197,212,232,237,242,247,252,262,265,266) have mixed types. Specify dtype option on import or set low_memory=False.\n",
            "  df = pd.read_csv('SoilHealthDB_V2.csv', encoding='latin-1')\n"
          ]
        },
        {
          "output_type": "stream",
          "name": "stdout",
          "text": [
            "   StudyID ExperimentID Author_F Author_G  YearPublication  SamplingYear  \\\n",
            "0        1        1-Jan    Abawi     G.S.             2000           NaN   \n",
            "1        1        1-Jan    Abawi     G.S.             2000           NaN   \n",
            "2        1        2-Jan    Abawi     G.S.             2000           NaN   \n",
            "3        1        1-Jan    Abawi     G.S.             2000           NaN   \n",
            "4        1        4-Jan    Abawi     G.S.             2000           NaN   \n",
            "\n",
            "                Journal SiteInfor Country  Latitude  ...  MBN_C_SD  MBN_T_SD  \\\n",
            "0  Applied Soil Ecology  New York     USA     40.71  ...       NaN       NaN   \n",
            "1  Applied Soil Ecology  New York     USA     40.71  ...       NaN       NaN   \n",
            "2  Applied Soil Ecology  New York     USA     40.71  ...       NaN       NaN   \n",
            "3  Applied Soil Ecology  New York     USA     40.71  ...       NaN       NaN   \n",
            "4  Applied Soil Ecology  New York     USA     40.71  ...       NaN       NaN   \n",
            "\n",
            "   38.MBN_Comments  Microelement  SQI  ESS Texture_C             Comments1  \\\n",
            "0              NaN           NaN  NaN  NaN       NaN  Root infected by rot   \n",
            "1              NaN           NaN  NaN  NaN       NaN  Root infected by rot   \n",
            "2              NaN           NaN  NaN  NaN       NaN  Root infected by rot   \n",
            "3              NaN           NaN  NaN  NaN       NaN  Root infected by rot   \n",
            "4              NaN           NaN  NaN  NaN       NaN  Root infected by rot   \n",
            "\n",
            "   Comments2 Comments3  \n",
            "0        NaN       NaN  \n",
            "1        NaN       NaN  \n",
            "2        NaN       NaN  \n",
            "3        NaN       NaN  \n",
            "4        NaN       NaN  \n",
            "\n",
            "[5 rows x 270 columns]\n"
          ]
        }
      ]
    },
    {
      "cell_type": "markdown",
      "source": [
        "## cleaning"
      ],
      "metadata": {
        "id": "62qPiSpkpB1b"
      }
    },
    {
      "cell_type": "markdown",
      "source": [
        "Remove all columns containing 'comment'"
      ],
      "metadata": {
        "id": "EHm3Ftvojwsg"
      }
    },
    {
      "cell_type": "code",
      "source": [
        "# prompt: remove all columns containing 'comment'\n",
        "\n",
        "columns_to_drop = [col for col in df.columns if 'comment' in col.lower()]\n",
        "df_cleaned = df.drop(columns=columns_to_drop)\n",
        "\n",
        "# Display the first few rows of the cleaned DataFrame\n",
        "print(df_cleaned.head())"
      ],
      "metadata": {
        "colab": {
          "base_uri": "https://localhost:8080/"
        },
        "id": "BNvqTTapj0Yq",
        "outputId": "8289db95-ede8-491e-94a5-ed930e4d0863"
      },
      "execution_count": null,
      "outputs": [
        {
          "output_type": "stream",
          "name": "stdout",
          "text": [
            "   StudyID ExperimentID Author_F Author_G  YearPublication  SamplingYear  \\\n",
            "0        1        1-Jan    Abawi     G.S.             2000           NaN   \n",
            "1        1        1-Jan    Abawi     G.S.             2000           NaN   \n",
            "2        1        2-Jan    Abawi     G.S.             2000           NaN   \n",
            "3        1        1-Jan    Abawi     G.S.             2000           NaN   \n",
            "4        1        4-Jan    Abawi     G.S.             2000           NaN   \n",
            "\n",
            "                Journal SiteInfor Country  Latitude  ...  MBC_C_SD  MBC_T_SD  \\\n",
            "0  Applied Soil Ecology  New York     USA     40.71  ...       NaN       NaN   \n",
            "1  Applied Soil Ecology  New York     USA     40.71  ...       NaN       NaN   \n",
            "2  Applied Soil Ecology  New York     USA     40.71  ...       NaN       NaN   \n",
            "3  Applied Soil Ecology  New York     USA     40.71  ...       NaN       NaN   \n",
            "4  Applied Soil Ecology  New York     USA     40.71  ...       NaN       NaN   \n",
            "\n",
            "   MBN_C  MBN_T  MBN_C_SD  MBN_T_SD Microelement  SQI  ESS Texture_C  \n",
            "0    NaN    NaN       NaN       NaN          NaN  NaN  NaN       NaN  \n",
            "1    NaN    NaN       NaN       NaN          NaN  NaN  NaN       NaN  \n",
            "2    NaN    NaN       NaN       NaN          NaN  NaN  NaN       NaN  \n",
            "3    NaN    NaN       NaN       NaN          NaN  NaN  NaN       NaN  \n",
            "4    NaN    NaN       NaN       NaN          NaN  NaN  NaN       NaN  \n",
            "\n",
            "[5 rows x 229 columns]\n"
          ]
        }
      ]
    },
    {
      "cell_type": "markdown",
      "source": [
        "Remove records that don't have organic carbon data"
      ],
      "metadata": {
        "id": "6lMl5PrdjcB5"
      }
    },
    {
      "cell_type": "code",
      "source": [
        "# prompt: remove all records that do not contain values for OC__T or OC_C\n",
        "\n",
        "df_filtered = df.dropna(subset=['OC_T', 'OC_C'])\n",
        "\n",
        "print(df_filtered.head())\n",
        "print(f\"Original number of rows: {len(df)}\")\n",
        "print(f\"Number of rows after filtering: {len(df_filtered)}\")\n"
      ],
      "metadata": {
        "colab": {
          "base_uri": "https://localhost:8080/"
        },
        "id": "2k4DsuQjcJwg",
        "outputId": "6ff32c46-6868-452b-a150-a888ca0fe4f2"
      },
      "execution_count": null,
      "outputs": [
        {
          "output_type": "stream",
          "name": "stdout",
          "text": [
            "    StudyID ExperimentID       Author_F  Author_G  YearPublication  \\\n",
            "11        2        1-Feb         Bandic      Anna             1999   \n",
            "12        2        2-Feb         Bandic      Anna             1999   \n",
            "55        4        1-Apr  Blanco-Canqui  Humberto             2010   \n",
            "56        4        2-Apr  Blanco-Canqui  Humberto             2010   \n",
            "57        4        1-Apr  Blanco-Canqui  Humberto             2010   \n",
            "\n",
            "    SamplingYear                                     Journal  \\\n",
            "11        1994.0               Soil Biology and Biochemistry   \n",
            "12        1994.0               Soil Biology and Biochemistry   \n",
            "55        2002.0  Soil and Water Management and Conservation   \n",
            "56        2002.0  Soil and Water Management and Conservation   \n",
            "57        2002.0  Soil and Water Management and Conservation   \n",
            "\n",
            "                                            SiteInfor Country  Latitude  ...  \\\n",
            "11  North  Willamette  Research  and Extension  Ce...     USA     45.23  ...   \n",
            "12  North  Willamette  Research  and Extension  Ce...     USA     45.23  ...   \n",
            "55                                       Hesston,  KS     USA     38.14  ...   \n",
            "56                                       Hesston,  KS     USA     38.14  ...   \n",
            "57                                       Hesston,  KS     USA     38.14  ...   \n",
            "\n",
            "    MBN_C_SD  MBN_T_SD  38.MBN_Comments  Microelement  SQI  ESS Texture_C  \\\n",
            "11       NaN       NaN              NaN           NaN  NaN  NaN       NaN   \n",
            "12       NaN       NaN              NaN           NaN  NaN  NaN       NaN   \n",
            "55       NaN       NaN              NaN           NaN  NaN  NaN       NaN   \n",
            "56       NaN       NaN              NaN           NaN  NaN  NaN       NaN   \n",
            "57       NaN       NaN              NaN           NaN  NaN  NaN       NaN   \n",
            "\n",
            "                                            Comments1  Comments2  \\\n",
            "11                                                NaN        NaN   \n",
            "12                                                NaN        NaN   \n",
            "55  Earthwarm, 4.75-2 mm water stable aggregates, ...        NaN   \n",
            "56  Earthwarm, 4.75-2 mm water stable aggregates, ...        NaN   \n",
            "57  Earthwarm, 4.75-2 mm water stable aggregates, ...        NaN   \n",
            "\n",
            "                         Comments3  \n",
            "11                             NaN  \n",
            "12                             NaN  \n",
            "55  Winter CC (planed in the fall)  \n",
            "56  Winter CC (planed in the fall)  \n",
            "57  Winter CC (planed in the fall)  \n",
            "\n",
            "[5 rows x 270 columns]\n",
            "Original number of rows: 5907\n",
            "Number of rows after filtering: 1573\n"
          ]
        }
      ]
    },
    {
      "cell_type": "markdown",
      "source": [
        "Make new df with only fields that will be input by user about their property (as these are the only ones that can be used to predict the soil carbon of their property).  temperature, precipitation, cover crop (does it use cover crop), landuse type, type of tillage, crop, Elevation. Make sure all are numeric (i.e. use onehotencoder). Not study found texture is largest indicator, but most records don't have texture recorded. SoilFamily might be a substitute? Need to use ControlDescription - combine with cover crop field to indicate whether cover crop or not. i.e. fallow, lupin etc. in one field\n",
        "\n",
        "Fields:\n",
        "- Tannual : annual temperature\n",
        "- Pannual : annual precipitation\n",
        "\n",
        "\n",
        "Fields to be created or used with onehotencoder\n",
        "- Fertilization _C _T : removed as incomplete and messy\n",
        "- Tillage _C _T\n",
        "- CoverCropGroup (LG is legumes, needs to be cleaned)\n",
        "- GrainCropGroup\n",
        "- Conservation_Type"
      ],
      "metadata": {
        "id": "7yaxEVkapNFE"
      }
    },
    {
      "cell_type": "code",
      "source": [
        "# prompt: create new df with fields Tannual, Pannual, Fertilization_C, Fertilization_T, Tillage_C, Tillage_T, CoverCropGroup, GrainCrop, Conservation_Type\n",
        "\n",
        "# Select the desired columns to create the new DataFrame\n",
        "df_new = df_filtered[['Country', 'Tannual', 'Pannual', 'OC_T', 'OC_C', 'Tillage_C', 'Tillage_T', 'CoverCropGroup', 'GrainCropGroup', 'Conservation_Type']].copy()\n",
        "\n",
        "print(df_new.head())"
      ],
      "metadata": {
        "colab": {
          "base_uri": "https://localhost:8080/"
        },
        "id": "lMtpGasR8NvP",
        "outputId": "968ad154-7f6f-4f8b-b49f-51f8a5876893"
      },
      "execution_count": null,
      "outputs": [
        {
          "output_type": "stream",
          "name": "stdout",
          "text": [
            "   Country  Tannual  Pannual   OC_T   OC_C Fertilization_C Fertilization_T  \\\n",
            "11     USA      NaN      NaN  3.430  3.930          Varied          Varied   \n",
            "12     USA      NaN      NaN  4.130  3.930          Varied          Varied   \n",
            "55     USA      NaN      NaN  1.693  1.368   0 kg N per ha   0 kg N per ha   \n",
            "56     USA      NaN      NaN  1.071  1.031   0 kg N per ha   0 kg N per ha   \n",
            "57     USA      NaN      NaN  1.816  1.368   0 kg N per ha   0 kg N per ha   \n",
            "\n",
            "     Tillage_C   Tillage_T CoverCropGroup GrainCropGroup Conservation_Type  \n",
            "11         NaN         NaN            Rye            MTT                CC  \n",
            "12         NaN         NaN         Legume            MTT                CC  \n",
            "55  No tillage  No tillage         Legume             WO             CC-NT  \n",
            "56  No tillage  No tillage         Legume             WO             CC-NT  \n",
            "57  No tillage  No tillage         Legume             WO             CC-NT  \n"
          ]
        }
      ]
    },
    {
      "cell_type": "code",
      "source": [
        "# prompt: check how many rows df_new has\n",
        "\n",
        "print(f\"Number of rows in df_new: {len(df_new)}\")"
      ],
      "metadata": {
        "colab": {
          "base_uri": "https://localhost:8080/"
        },
        "id": "Z4sPMpff9MWW",
        "outputId": "2b049fb1-2e7a-47c2-8f51-80c5ee6672b9"
      },
      "execution_count": null,
      "outputs": [
        {
          "output_type": "stream",
          "name": "stdout",
          "text": [
            "Number of rows in df_new: 1573\n"
          ]
        }
      ]
    },
    {
      "cell_type": "code",
      "source": [
        "# prompt: check how many na's df_new has for Tannual\n",
        "\n",
        "print(f\"Number of NA's in Tannual column: {df_new['Tannual'].isnull().sum()}\")\n",
        "print(f\"Number of NA's in Pannual column: {df_new['Pannual'].isnull().sum()}\")\n"
      ],
      "metadata": {
        "colab": {
          "base_uri": "https://localhost:8080/"
        },
        "id": "eB_lP7PD9Sx_",
        "outputId": "9f989614-d4c3-46c0-d157-9e1ef53bf122"
      },
      "execution_count": null,
      "outputs": [
        {
          "output_type": "stream",
          "name": "stdout",
          "text": [
            "Number of NA's in Tannual column: 1156\n",
            "Number of NA's in Pannual column: 1095\n"
          ]
        }
      ]
    },
    {
      "cell_type": "code",
      "source": [
        "# prompt: remove records where Tannual is null\n",
        "\n",
        "df_new_cleaned = df_new.dropna(subset=['Tannual'])\n",
        "\n",
        "print(df_new_cleaned.head())\n",
        "print(f\"Number of rows after removing null Tannual: {len(df_new_cleaned)}\")\n",
        "print(f\"Number of NA's in Tannual column after cleaning: {df_new_cleaned['Tannual'].isnull().sum()}\")"
      ],
      "metadata": {
        "colab": {
          "base_uri": "https://localhost:8080/"
        },
        "id": "rK93-fNVAZyW",
        "outputId": "9c7db96e-fee5-481b-fcd6-6c1229b94d9d"
      },
      "execution_count": null,
      "outputs": [
        {
          "output_type": "stream",
          "name": "stdout",
          "text": [
            "    Country  Tannual  Pannual  OC_T  OC_C Fertilization_C Fertilization_T  \\\n",
            "424     USA     19.6    976.0  0.74  0.46   0 Kg N per ha   0 Kg N per ha   \n",
            "425     USA     19.6    976.0  0.70  0.46   0 Kg N per ha   0 Kg N per ha   \n",
            "426     USA     19.6    976.0  0.59  0.46   0 Kg N per ha   0 Kg N per ha   \n",
            "427     USA     19.6    976.0  0.73  0.50  67 Kg N per ha  67 Kg N per ha   \n",
            "428     USA     19.6    976.0  0.74  0.50  67 Kg N per ha  67 Kg N per ha   \n",
            "\n",
            "                Tillage_C             Tillage_T CoverCropGroup GrainCropGroup  \\\n",
            "424  Conventional tillage  Conservation tillage             LL           Corn   \n",
            "425  Conventional tillage  Conservation tillage         Legume           Corn   \n",
            "426  Conventional tillage  Conservation tillage         Legume           Corn   \n",
            "427  Conventional tillage  Conservation tillage             LL           Corn   \n",
            "428  Conventional tillage  Conservation tillage         Legume           Corn   \n",
            "\n",
            "    Conservation_Type  \n",
            "424                CC  \n",
            "425                CC  \n",
            "426                CC  \n",
            "427                CC  \n",
            "428                CC  \n",
            "Number of rows after removing null Tannual: 417\n",
            "Number of NA's in Tannual column after cleaning: 0\n"
          ]
        }
      ]
    },
    {
      "cell_type": "code",
      "source": [
        "print(f\"Number of NA's in Tannual column: {df_new_cleaned['Tannual'].isnull().sum()}\")\n",
        "print(f\"Number of NA's in Pannual column: {df_new_cleaned['Pannual'].isnull().sum()}\")\n",
        "print(f\"Number of NA's in Pannual column: {df_new_cleaned['CoverCropGroup'].isnull().sum()}\")\n"
      ],
      "metadata": {
        "colab": {
          "base_uri": "https://localhost:8080/"
        },
        "id": "rGjC36pdAgKF",
        "outputId": "01cf9b3d-c965-4dfd-85d3-c04eb3f9e7c1"
      },
      "execution_count": null,
      "outputs": [
        {
          "output_type": "stream",
          "name": "stdout",
          "text": [
            "Number of NA's in Tannual column: 0\n",
            "Number of NA's in Pannual column: 0\n",
            "Number of NA's in Pannual column: 0\n"
          ]
        }
      ]
    },
    {
      "cell_type": "code",
      "source": [
        "# prompt: remove the records with Pannual of null\n",
        "\n",
        "df_new_cleaned = df_new_cleaned.dropna(subset=['Pannual'])\n",
        "\n",
        "print(df_new_cleaned.head())\n",
        "print(f\"Number of rows after removing null Pannual: {len(df_new_cleaned)}\")\n",
        "print(f\"Number of NA's in Pannual column after cleaning: {df_new_cleaned['Pannual'].isnull().sum()}\")"
      ],
      "metadata": {
        "colab": {
          "base_uri": "https://localhost:8080/"
        },
        "id": "l3CbFNSBOG8C",
        "outputId": "9557df58-7c9a-450b-d5a2-44e660654f99"
      },
      "execution_count": null,
      "outputs": [
        {
          "output_type": "stream",
          "name": "stdout",
          "text": [
            "    Country  Tannual  Pannual  OC_T  OC_C Fertilization_C Fertilization_T  \\\n",
            "424     USA     19.6    976.0  0.74  0.46   0 Kg N per ha   0 Kg N per ha   \n",
            "425     USA     19.6    976.0  0.70  0.46   0 Kg N per ha   0 Kg N per ha   \n",
            "426     USA     19.6    976.0  0.59  0.46   0 Kg N per ha   0 Kg N per ha   \n",
            "427     USA     19.6    976.0  0.73  0.50  67 Kg N per ha  67 Kg N per ha   \n",
            "428     USA     19.6    976.0  0.74  0.50  67 Kg N per ha  67 Kg N per ha   \n",
            "\n",
            "                Tillage_C             Tillage_T CoverCropGroup GrainCropGroup  \\\n",
            "424  Conventional tillage  Conservation tillage             LL           Corn   \n",
            "425  Conventional tillage  Conservation tillage         Legume           Corn   \n",
            "426  Conventional tillage  Conservation tillage         Legume           Corn   \n",
            "427  Conventional tillage  Conservation tillage             LL           Corn   \n",
            "428  Conventional tillage  Conservation tillage         Legume           Corn   \n",
            "\n",
            "    Conservation_Type  \n",
            "424                CC  \n",
            "425                CC  \n",
            "426                CC  \n",
            "427                CC  \n",
            "428                CC  \n",
            "Number of rows after removing null Pannual: 414\n",
            "Number of NA's in Pannual column after cleaning: 0\n"
          ]
        }
      ]
    },
    {
      "cell_type": "code",
      "source": [
        "# prompt: create count of conservation_Type\n",
        "\n",
        "conservation_type_counts = df_new_cleaned['Conservation_Type'].value_counts()\n",
        "print(\"Counts of each Conservation_Type:\")\n",
        "conservation_type_counts"
      ],
      "metadata": {
        "colab": {
          "base_uri": "https://localhost:8080/",
          "height": 220
        },
        "id": "rKTfACCaOvrs",
        "outputId": "54f42347-5238-4e17-dbac-3d4626dfd1ad"
      },
      "execution_count": null,
      "outputs": [
        {
          "output_type": "stream",
          "name": "stdout",
          "text": [
            "Counts of each Conservation_Type:\n"
          ]
        },
        {
          "output_type": "execute_result",
          "data": {
            "text/plain": [
              "Conservation_Type\n",
              "CC       277\n",
              "CC-NT    124\n",
              "OF-CC     13\n",
              "Name: count, dtype: int64"
            ],
            "text/html": [
              "<div>\n",
              "<style scoped>\n",
              "    .dataframe tbody tr th:only-of-type {\n",
              "        vertical-align: middle;\n",
              "    }\n",
              "\n",
              "    .dataframe tbody tr th {\n",
              "        vertical-align: top;\n",
              "    }\n",
              "\n",
              "    .dataframe thead th {\n",
              "        text-align: right;\n",
              "    }\n",
              "</style>\n",
              "<table border=\"1\" class=\"dataframe\">\n",
              "  <thead>\n",
              "    <tr style=\"text-align: right;\">\n",
              "      <th></th>\n",
              "      <th>count</th>\n",
              "    </tr>\n",
              "    <tr>\n",
              "      <th>Conservation_Type</th>\n",
              "      <th></th>\n",
              "    </tr>\n",
              "  </thead>\n",
              "  <tbody>\n",
              "    <tr>\n",
              "      <th>CC</th>\n",
              "      <td>277</td>\n",
              "    </tr>\n",
              "    <tr>\n",
              "      <th>CC-NT</th>\n",
              "      <td>124</td>\n",
              "    </tr>\n",
              "    <tr>\n",
              "      <th>OF-CC</th>\n",
              "      <td>13</td>\n",
              "    </tr>\n",
              "  </tbody>\n",
              "</table>\n",
              "</div><br><label><b>dtype:</b> int64</label>"
            ]
          },
          "metadata": {},
          "execution_count": 37
        }
      ]
    },
    {
      "cell_type": "markdown",
      "source": [
        "So much temperature and precipitation data is missing, test using country instead compared to using much lower amount of records with Tannual and Pannual data. Later version can get an estimate of these values from the lat/long to use more of the data."
      ],
      "metadata": {
        "id": "sDTcrxID_92R"
      }
    },
    {
      "cell_type": "code",
      "source": [
        "# prompt: # prompt: duplicate records to have all fields with '_T' in seperate records to '_C'. CoverCropGroup and Conservation_Type should be 'None' for all '_C' records\n",
        "\n",
        "# Duplicate records for '_T' and '_C'\n",
        "df_t = df_new_cleaned.copy()\n",
        "df_c = df_new_cleaned.copy()\n",
        "\n",
        "# Rename columns for '_T' records\n",
        "df_t.rename(columns={'OC_T': 'OC',\n",
        "                     'Tillage_T': 'Tillage'}, inplace=True)\n",
        "df_t = df_t.drop(columns=['OC_C', 'Tillage_C'])\n",
        "df_t['Type'] = '_T'\n",
        "\n",
        "\n",
        "# Rename columns for '_C' records and set 'CoverCropGroup' and 'Conservation_Type' to None\n",
        "df_c.rename(columns={'OC_C': 'OC',\n",
        "                     'Tillage_C': 'Tillage'}, inplace=True)\n",
        "df_c = df_c.drop(columns=['OC_T', 'Tillage_T'])\n",
        "df_c['Type'] = '_C'\n",
        "df_c['CoverCropGroup'] = 'None'\n",
        "df_c['Conservation_Type'] = 'None'\n",
        "\n",
        "\n",
        "# Concatenate the two dataframes\n",
        "df_combined = pd.concat([df_t, df_c], ignore_index=True)\n",
        "\n",
        "# Display the first few rows of the combined DataFrame\n",
        "print(df_combined.head())\n",
        "print(df_combined.tail())\n",
        "\n",
        "# Check the number of rows in the combined DataFrame\n",
        "print(f\"Number of rows in combined DataFrame: {len(df_combined)}\")\n",
        "print(f\"Number of rows in df_new_cleaned: {len(df_new_cleaned)}\")"
      ],
      "metadata": {
        "colab": {
          "base_uri": "https://localhost:8080/"
        },
        "id": "jieNwInbPbUx",
        "outputId": "3921c333-333f-4a8e-8046-1bd911467714"
      },
      "execution_count": null,
      "outputs": [
        {
          "output_type": "stream",
          "name": "stdout",
          "text": [
            "  Country  Tannual  Pannual    OC   Fertilization               Tillage  \\\n",
            "0     USA     19.6    976.0  0.74   0 Kg N per ha  Conservation tillage   \n",
            "1     USA     19.6    976.0  0.70   0 Kg N per ha  Conservation tillage   \n",
            "2     USA     19.6    976.0  0.59   0 Kg N per ha  Conservation tillage   \n",
            "3     USA     19.6    976.0  0.73  67 Kg N per ha  Conservation tillage   \n",
            "4     USA     19.6    976.0  0.74  67 Kg N per ha  Conservation tillage   \n",
            "\n",
            "  CoverCropGroup GrainCropGroup Conservation_Type Type  \n",
            "0             LL           Corn                CC   _T  \n",
            "1         Legume           Corn                CC   _T  \n",
            "2         Legume           Corn                CC   _T  \n",
            "3             LL           Corn                CC   _T  \n",
            "4         Legume           Corn                CC   _T  \n",
            "    Country  Tannual  Pannual    OC Fertilization              Tillage  \\\n",
            "823     USA     17.3   1958.0  0.87  C-0-N-0-OC-0  Traditional tillage   \n",
            "824     USA     17.3   1958.0  0.86  C-0-N-0-OC-0  Traditional tillage   \n",
            "825     USA     17.3   1958.0  0.90  C-0-N-0-OC-0  Traditional tillage   \n",
            "826     USA     17.3   1958.0  0.35  C-0-N-0-OC-0  Traditional tillage   \n",
            "827     USA     17.3   1958.0  1.49  C-0-N-0-OC-0  Traditional tillage   \n",
            "\n",
            "    CoverCropGroup GrainCropGroup Conservation_Type Type  \n",
            "823           None            AVG              None   _C  \n",
            "824           None            AVG              None   _C  \n",
            "825           None            AVG              None   _C  \n",
            "826           None            AVG              None   _C  \n",
            "827           None            AVG              None   _C  \n",
            "Number of rows in combined DataFrame: 828\n",
            "Number of rows in df_new_cleaned: 414\n"
          ]
        }
      ]
    },
    {
      "cell_type": "code",
      "source": [
        "# prompt: list unique values of GrainCropGroup\n",
        "\n",
        "print(df_combined['GrainCropGroup'].unique())"
      ],
      "metadata": {
        "colab": {
          "base_uri": "https://localhost:8080/"
        },
        "id": "9ETijGUMQuow",
        "outputId": "68c0882f-4193-42c0-ce5e-50a6c5b10d57"
      },
      "execution_count": null,
      "outputs": [
        {
          "output_type": "stream",
          "name": "stdout",
          "text": [
            "['Corn' 'Arable' 'Soybean' 'CS' 'Vegetable' 'CV' 'CO' 'MTT' 'CW' 'Wheat'\n",
            " 'WO' 'AVG']\n"
          ]
        }
      ]
    },
    {
      "cell_type": "code",
      "source": [
        "# prompt: show unique tillage types\n",
        "\n",
        "print(df_combined['Tillage'].unique())"
      ],
      "metadata": {
        "colab": {
          "base_uri": "https://localhost:8080/"
        },
        "id": "m9SOHR5kd0Br",
        "outputId": "33b7dc45-5fcc-4ff8-c796-3a400184ab6f"
      },
      "execution_count": null,
      "outputs": [
        {
          "output_type": "stream",
          "name": "stdout",
          "text": [
            "['Conservation tillage' 'no tillage' nan 'spring tillage'\n",
            " 'conventional tillage' 'Strip tillage' 'Chisel tillage'\n",
            " 'no tillage/chisel plowing/moldboard plowing mixed' 'chisel plowing'\n",
            " 'moldboard plowing mixed' 'No tillage' 'CT' 'no data' 'No till'\n",
            " 'No-tillage' 'Conservational tillage' 'Conventional tillage'\n",
            " 'CT / NT (not clear which one, influence found to be not significant)'\n",
            " 'Disc till' 'Harrowing' 'mouldboard ploughing' 'Traditional tillage']\n"
          ]
        }
      ]
    },
    {
      "cell_type": "code",
      "source": [
        "print(f\"Number of NA's in Tillage column: {df_combined['Tillage'].isnull().sum()}\")"
      ],
      "metadata": {
        "colab": {
          "base_uri": "https://localhost:8080/"
        },
        "id": "HY4aTF7bbLxl",
        "outputId": "5c0d8edd-ab54-478b-917d-d44229c41460"
      },
      "execution_count": null,
      "outputs": [
        {
          "output_type": "stream",
          "name": "stdout",
          "text": [
            "Number of NA's in Tillage column: 101\n"
          ]
        }
      ]
    },
    {
      "cell_type": "code",
      "source": [
        "# prompt: check how many 'no data' records there are for Tillage\n",
        "\n",
        "print(f\"Number of 'no data' records for Tillage: {(df_combined['Tillage'] == 'no data').sum()}\")"
      ],
      "metadata": {
        "colab": {
          "base_uri": "https://localhost:8080/"
        },
        "id": "_L1g2NXTfEKo",
        "outputId": "09fcfec9-30ad-4b77-c835-04727ff93e89"
      },
      "execution_count": null,
      "outputs": [
        {
          "output_type": "stream",
          "name": "stdout",
          "text": [
            "Number of 'no data' records for Tillage: 13\n"
          ]
        }
      ]
    },
    {
      "cell_type": "markdown",
      "source": [
        "For Tillage, null values, and 'no data' can be changed to Unknown. Fertilization needs to be cleaned, but the data is confusing and incomplete, so I will try the analysis without this field."
      ],
      "metadata": {
        "id": "tk5VzbdhgTTY"
      }
    },
    {
      "cell_type": "code",
      "source": [
        "# prompt: make all null and 'no data' records for Tillage as 'Unknown'\n",
        "\n",
        "df_combined['Tillage'] = df_combined['Tillage'].fillna('Unknown')\n",
        "df_combined['Tillage'] = df_combined['Tillage'].replace('no data', 'Unknown')\n",
        "\n",
        "print(df_combined['Tillage'].unique())\n",
        "print(f\"Number of 'Unknown' records for Tillage after cleaning: {(df_combined['Tillage'] == 'Unknown').sum()}\")"
      ],
      "metadata": {
        "colab": {
          "base_uri": "https://localhost:8080/"
        },
        "id": "RCBaj5eVg7My",
        "outputId": "96192a43-d264-4c61-9e2c-9446b6e08a78"
      },
      "execution_count": null,
      "outputs": [
        {
          "output_type": "stream",
          "name": "stdout",
          "text": [
            "['Conservation tillage' 'no tillage' 'Unknown' 'spring tillage'\n",
            " 'conventional tillage' 'Strip tillage' 'Chisel tillage'\n",
            " 'no tillage/chisel plowing/moldboard plowing mixed' 'chisel plowing'\n",
            " 'moldboard plowing mixed' 'No tillage' 'CT' 'No till' 'No-tillage'\n",
            " 'Conservational tillage' 'Conventional tillage'\n",
            " 'CT / NT (not clear which one, influence found to be not significant)'\n",
            " 'Disc till' 'Harrowing' 'mouldboard ploughing' 'Traditional tillage']\n",
            "Number of 'Unknown' records for Tillage after cleaning: 114\n"
          ]
        }
      ]
    },
    {
      "cell_type": "code",
      "source": [
        "# prompt: Make 'no tillage', 'No tillage', 'No till', 'No-tillage', 'CT / NT', as ''None'\n",
        "\n",
        "tillage_replacements = {\n",
        "    'no tillage': 'None',\n",
        "    'No tillage': 'None',\n",
        "    'No till': 'None',\n",
        "    'No-tillage': 'None',\n",
        "    'CT / NT (not clear which one, influence found to be not significant)': 'None'\n",
        "}\n",
        "\n",
        "df_combined['Tillage'] = df_combined['Tillage'].replace(tillage_replacements)\n",
        "\n",
        "print(df_combined['Tillage'].unique())\n"
      ],
      "metadata": {
        "colab": {
          "base_uri": "https://localhost:8080/"
        },
        "id": "Q1FzWZvmhoOr",
        "outputId": "b2ce0397-a0c7-489c-bd26-cdb71d40a24d"
      },
      "execution_count": null,
      "outputs": [
        {
          "output_type": "stream",
          "name": "stdout",
          "text": [
            "['Conservation tillage' 'None' 'Unknown' 'spring tillage'\n",
            " 'conventional tillage' 'Strip tillage' 'Chisel tillage'\n",
            " 'no tillage/chisel plowing/moldboard plowing mixed' 'chisel plowing'\n",
            " 'moldboard plowing mixed' 'CT' 'Conservational tillage'\n",
            " 'Conventional tillage' 'Disc till' 'Harrowing' 'mouldboard ploughing'\n",
            " 'Traditional tillage']\n"
          ]
        }
      ]
    },
    {
      "cell_type": "code",
      "source": [
        "conventional_replacements = {\n",
        "    'spring tillage': 'Conventional',\n",
        "    'conventional tillage': 'Conventional',\n",
        "    'moldboard plowing mixed': 'Conventional',\n",
        "    'CT': 'Conventional',\n",
        "    'Conventional tillage':'Conventional',\n",
        "    'Disc till':'Conventional',\n",
        "    'Harrowing':'Conventional',\n",
        "    'mouldboard ploughing':'Conventional',\n",
        "    'Traditional tillage':'Conventional'\n",
        "}\n",
        "\n",
        "reduced_replacements = {\n",
        "    'Conservation tillage': 'Reduced',\n",
        "    'Strip tillage': 'Reduced',\n",
        "    'Chisel tillage': 'Reduced',\n",
        "    'no tillage/chisel plowing/moldboard plowing mixed': 'Reduced',\n",
        "    'chisel plowing':'Reduced',\n",
        "    'Conservational tillage':'Reduced'\n",
        "}\n",
        "\n",
        "df_combined['Tillage'] = df_combined['Tillage'].replace(conventional_replacements)\n",
        "df_combined['Tillage'] = df_combined['Tillage'].replace(reduced_replacements)\n",
        "\n",
        "print(df_combined['Tillage'].unique())"
      ],
      "metadata": {
        "colab": {
          "base_uri": "https://localhost:8080/"
        },
        "id": "-VzY4gGtjTLn",
        "outputId": "0264c6f9-efcf-41bb-ef27-e81b331fdfee"
      },
      "execution_count": null,
      "outputs": [
        {
          "output_type": "stream",
          "name": "stdout",
          "text": [
            "['Reduced' 'None' 'Unknown' 'Conventional']\n"
          ]
        }
      ]
    },
    {
      "cell_type": "code",
      "source": [
        "df_combined.head(5)"
      ],
      "metadata": {
        "colab": {
          "base_uri": "https://localhost:8080/",
          "height": 221
        },
        "id": "QLro1otNlhmN",
        "outputId": "4f28d29a-6af6-4ece-d1d7-5cb5a91c670c"
      },
      "execution_count": null,
      "outputs": [
        {
          "output_type": "execute_result",
          "data": {
            "text/plain": [
              "  Country  Tannual  Pannual    OC   Fertilization  Tillage CoverCropGroup  \\\n",
              "0     USA     19.6    976.0  0.74   0 Kg N per ha  Reduced             LL   \n",
              "1     USA     19.6    976.0  0.70   0 Kg N per ha  Reduced         Legume   \n",
              "2     USA     19.6    976.0  0.59   0 Kg N per ha  Reduced         Legume   \n",
              "3     USA     19.6    976.0  0.73  67 Kg N per ha  Reduced             LL   \n",
              "4     USA     19.6    976.0  0.74  67 Kg N per ha  Reduced         Legume   \n",
              "\n",
              "  GrainCropGroup Conservation_Type Type  \n",
              "0           Corn                CC   _T  \n",
              "1           Corn                CC   _T  \n",
              "2           Corn                CC   _T  \n",
              "3           Corn                CC   _T  \n",
              "4           Corn                CC   _T  "
            ],
            "text/html": [
              "\n",
              "  <div id=\"df-d43f1565-ac56-44fc-bb0d-d9f4ad536eeb\" class=\"colab-df-container\">\n",
              "    <div>\n",
              "<style scoped>\n",
              "    .dataframe tbody tr th:only-of-type {\n",
              "        vertical-align: middle;\n",
              "    }\n",
              "\n",
              "    .dataframe tbody tr th {\n",
              "        vertical-align: top;\n",
              "    }\n",
              "\n",
              "    .dataframe thead th {\n",
              "        text-align: right;\n",
              "    }\n",
              "</style>\n",
              "<table border=\"1\" class=\"dataframe\">\n",
              "  <thead>\n",
              "    <tr style=\"text-align: right;\">\n",
              "      <th></th>\n",
              "      <th>Country</th>\n",
              "      <th>Tannual</th>\n",
              "      <th>Pannual</th>\n",
              "      <th>OC</th>\n",
              "      <th>Fertilization</th>\n",
              "      <th>Tillage</th>\n",
              "      <th>CoverCropGroup</th>\n",
              "      <th>GrainCropGroup</th>\n",
              "      <th>Conservation_Type</th>\n",
              "      <th>Type</th>\n",
              "    </tr>\n",
              "  </thead>\n",
              "  <tbody>\n",
              "    <tr>\n",
              "      <th>0</th>\n",
              "      <td>USA</td>\n",
              "      <td>19.6</td>\n",
              "      <td>976.0</td>\n",
              "      <td>0.74</td>\n",
              "      <td>0 Kg N per ha</td>\n",
              "      <td>Reduced</td>\n",
              "      <td>LL</td>\n",
              "      <td>Corn</td>\n",
              "      <td>CC</td>\n",
              "      <td>_T</td>\n",
              "    </tr>\n",
              "    <tr>\n",
              "      <th>1</th>\n",
              "      <td>USA</td>\n",
              "      <td>19.6</td>\n",
              "      <td>976.0</td>\n",
              "      <td>0.70</td>\n",
              "      <td>0 Kg N per ha</td>\n",
              "      <td>Reduced</td>\n",
              "      <td>Legume</td>\n",
              "      <td>Corn</td>\n",
              "      <td>CC</td>\n",
              "      <td>_T</td>\n",
              "    </tr>\n",
              "    <tr>\n",
              "      <th>2</th>\n",
              "      <td>USA</td>\n",
              "      <td>19.6</td>\n",
              "      <td>976.0</td>\n",
              "      <td>0.59</td>\n",
              "      <td>0 Kg N per ha</td>\n",
              "      <td>Reduced</td>\n",
              "      <td>Legume</td>\n",
              "      <td>Corn</td>\n",
              "      <td>CC</td>\n",
              "      <td>_T</td>\n",
              "    </tr>\n",
              "    <tr>\n",
              "      <th>3</th>\n",
              "      <td>USA</td>\n",
              "      <td>19.6</td>\n",
              "      <td>976.0</td>\n",
              "      <td>0.73</td>\n",
              "      <td>67 Kg N per ha</td>\n",
              "      <td>Reduced</td>\n",
              "      <td>LL</td>\n",
              "      <td>Corn</td>\n",
              "      <td>CC</td>\n",
              "      <td>_T</td>\n",
              "    </tr>\n",
              "    <tr>\n",
              "      <th>4</th>\n",
              "      <td>USA</td>\n",
              "      <td>19.6</td>\n",
              "      <td>976.0</td>\n",
              "      <td>0.74</td>\n",
              "      <td>67 Kg N per ha</td>\n",
              "      <td>Reduced</td>\n",
              "      <td>Legume</td>\n",
              "      <td>Corn</td>\n",
              "      <td>CC</td>\n",
              "      <td>_T</td>\n",
              "    </tr>\n",
              "  </tbody>\n",
              "</table>\n",
              "</div>\n",
              "    <div class=\"colab-df-buttons\">\n",
              "\n",
              "  <div class=\"colab-df-container\">\n",
              "    <button class=\"colab-df-convert\" onclick=\"convertToInteractive('df-d43f1565-ac56-44fc-bb0d-d9f4ad536eeb')\"\n",
              "            title=\"Convert this dataframe to an interactive table.\"\n",
              "            style=\"display:none;\">\n",
              "\n",
              "  <svg xmlns=\"http://www.w3.org/2000/svg\" height=\"24px\" viewBox=\"0 -960 960 960\">\n",
              "    <path d=\"M120-120v-720h720v720H120Zm60-500h600v-160H180v160Zm220 220h160v-160H400v160Zm0 220h160v-160H400v160ZM180-400h160v-160H180v160Zm440 0h160v-160H620v160ZM180-180h160v-160H180v160Zm440 0h160v-160H620v160Z\"/>\n",
              "  </svg>\n",
              "    </button>\n",
              "\n",
              "  <style>\n",
              "    .colab-df-container {\n",
              "      display:flex;\n",
              "      gap: 12px;\n",
              "    }\n",
              "\n",
              "    .colab-df-convert {\n",
              "      background-color: #E8F0FE;\n",
              "      border: none;\n",
              "      border-radius: 50%;\n",
              "      cursor: pointer;\n",
              "      display: none;\n",
              "      fill: #1967D2;\n",
              "      height: 32px;\n",
              "      padding: 0 0 0 0;\n",
              "      width: 32px;\n",
              "    }\n",
              "\n",
              "    .colab-df-convert:hover {\n",
              "      background-color: #E2EBFA;\n",
              "      box-shadow: 0px 1px 2px rgba(60, 64, 67, 0.3), 0px 1px 3px 1px rgba(60, 64, 67, 0.15);\n",
              "      fill: #174EA6;\n",
              "    }\n",
              "\n",
              "    .colab-df-buttons div {\n",
              "      margin-bottom: 4px;\n",
              "    }\n",
              "\n",
              "    [theme=dark] .colab-df-convert {\n",
              "      background-color: #3B4455;\n",
              "      fill: #D2E3FC;\n",
              "    }\n",
              "\n",
              "    [theme=dark] .colab-df-convert:hover {\n",
              "      background-color: #434B5C;\n",
              "      box-shadow: 0px 1px 3px 1px rgba(0, 0, 0, 0.15);\n",
              "      filter: drop-shadow(0px 1px 2px rgba(0, 0, 0, 0.3));\n",
              "      fill: #FFFFFF;\n",
              "    }\n",
              "  </style>\n",
              "\n",
              "    <script>\n",
              "      const buttonEl =\n",
              "        document.querySelector('#df-d43f1565-ac56-44fc-bb0d-d9f4ad536eeb button.colab-df-convert');\n",
              "      buttonEl.style.display =\n",
              "        google.colab.kernel.accessAllowed ? 'block' : 'none';\n",
              "\n",
              "      async function convertToInteractive(key) {\n",
              "        const element = document.querySelector('#df-d43f1565-ac56-44fc-bb0d-d9f4ad536eeb');\n",
              "        const dataTable =\n",
              "          await google.colab.kernel.invokeFunction('convertToInteractive',\n",
              "                                                    [key], {});\n",
              "        if (!dataTable) return;\n",
              "\n",
              "        const docLinkHtml = 'Like what you see? Visit the ' +\n",
              "          '<a target=\"_blank\" href=https://colab.research.google.com/notebooks/data_table.ipynb>data table notebook</a>'\n",
              "          + ' to learn more about interactive tables.';\n",
              "        element.innerHTML = '';\n",
              "        dataTable['output_type'] = 'display_data';\n",
              "        await google.colab.output.renderOutput(dataTable, element);\n",
              "        const docLink = document.createElement('div');\n",
              "        docLink.innerHTML = docLinkHtml;\n",
              "        element.appendChild(docLink);\n",
              "      }\n",
              "    </script>\n",
              "  </div>\n",
              "\n",
              "\n",
              "    <div id=\"df-b192d2c6-496a-4ff4-9361-c9b2e0be8c12\">\n",
              "      <button class=\"colab-df-quickchart\" onclick=\"quickchart('df-b192d2c6-496a-4ff4-9361-c9b2e0be8c12')\"\n",
              "                title=\"Suggest charts\"\n",
              "                style=\"display:none;\">\n",
              "\n",
              "<svg xmlns=\"http://www.w3.org/2000/svg\" height=\"24px\"viewBox=\"0 0 24 24\"\n",
              "     width=\"24px\">\n",
              "    <g>\n",
              "        <path d=\"M19 3H5c-1.1 0-2 .9-2 2v14c0 1.1.9 2 2 2h14c1.1 0 2-.9 2-2V5c0-1.1-.9-2-2-2zM9 17H7v-7h2v7zm4 0h-2V7h2v10zm4 0h-2v-4h2v4z\"/>\n",
              "    </g>\n",
              "</svg>\n",
              "      </button>\n",
              "\n",
              "<style>\n",
              "  .colab-df-quickchart {\n",
              "      --bg-color: #E8F0FE;\n",
              "      --fill-color: #1967D2;\n",
              "      --hover-bg-color: #E2EBFA;\n",
              "      --hover-fill-color: #174EA6;\n",
              "      --disabled-fill-color: #AAA;\n",
              "      --disabled-bg-color: #DDD;\n",
              "  }\n",
              "\n",
              "  [theme=dark] .colab-df-quickchart {\n",
              "      --bg-color: #3B4455;\n",
              "      --fill-color: #D2E3FC;\n",
              "      --hover-bg-color: #434B5C;\n",
              "      --hover-fill-color: #FFFFFF;\n",
              "      --disabled-bg-color: #3B4455;\n",
              "      --disabled-fill-color: #666;\n",
              "  }\n",
              "\n",
              "  .colab-df-quickchart {\n",
              "    background-color: var(--bg-color);\n",
              "    border: none;\n",
              "    border-radius: 50%;\n",
              "    cursor: pointer;\n",
              "    display: none;\n",
              "    fill: var(--fill-color);\n",
              "    height: 32px;\n",
              "    padding: 0;\n",
              "    width: 32px;\n",
              "  }\n",
              "\n",
              "  .colab-df-quickchart:hover {\n",
              "    background-color: var(--hover-bg-color);\n",
              "    box-shadow: 0 1px 2px rgba(60, 64, 67, 0.3), 0 1px 3px 1px rgba(60, 64, 67, 0.15);\n",
              "    fill: var(--button-hover-fill-color);\n",
              "  }\n",
              "\n",
              "  .colab-df-quickchart-complete:disabled,\n",
              "  .colab-df-quickchart-complete:disabled:hover {\n",
              "    background-color: var(--disabled-bg-color);\n",
              "    fill: var(--disabled-fill-color);\n",
              "    box-shadow: none;\n",
              "  }\n",
              "\n",
              "  .colab-df-spinner {\n",
              "    border: 2px solid var(--fill-color);\n",
              "    border-color: transparent;\n",
              "    border-bottom-color: var(--fill-color);\n",
              "    animation:\n",
              "      spin 1s steps(1) infinite;\n",
              "  }\n",
              "\n",
              "  @keyframes spin {\n",
              "    0% {\n",
              "      border-color: transparent;\n",
              "      border-bottom-color: var(--fill-color);\n",
              "      border-left-color: var(--fill-color);\n",
              "    }\n",
              "    20% {\n",
              "      border-color: transparent;\n",
              "      border-left-color: var(--fill-color);\n",
              "      border-top-color: var(--fill-color);\n",
              "    }\n",
              "    30% {\n",
              "      border-color: transparent;\n",
              "      border-left-color: var(--fill-color);\n",
              "      border-top-color: var(--fill-color);\n",
              "      border-right-color: var(--fill-color);\n",
              "    }\n",
              "    40% {\n",
              "      border-color: transparent;\n",
              "      border-right-color: var(--fill-color);\n",
              "      border-top-color: var(--fill-color);\n",
              "    }\n",
              "    60% {\n",
              "      border-color: transparent;\n",
              "      border-right-color: var(--fill-color);\n",
              "    }\n",
              "    80% {\n",
              "      border-color: transparent;\n",
              "      border-right-color: var(--fill-color);\n",
              "      border-bottom-color: var(--fill-color);\n",
              "    }\n",
              "    90% {\n",
              "      border-color: transparent;\n",
              "      border-bottom-color: var(--fill-color);\n",
              "    }\n",
              "  }\n",
              "</style>\n",
              "\n",
              "      <script>\n",
              "        async function quickchart(key) {\n",
              "          const quickchartButtonEl =\n",
              "            document.querySelector('#' + key + ' button');\n",
              "          quickchartButtonEl.disabled = true;  // To prevent multiple clicks.\n",
              "          quickchartButtonEl.classList.add('colab-df-spinner');\n",
              "          try {\n",
              "            const charts = await google.colab.kernel.invokeFunction(\n",
              "                'suggestCharts', [key], {});\n",
              "          } catch (error) {\n",
              "            console.error('Error during call to suggestCharts:', error);\n",
              "          }\n",
              "          quickchartButtonEl.classList.remove('colab-df-spinner');\n",
              "          quickchartButtonEl.classList.add('colab-df-quickchart-complete');\n",
              "        }\n",
              "        (() => {\n",
              "          let quickchartButtonEl =\n",
              "            document.querySelector('#df-b192d2c6-496a-4ff4-9361-c9b2e0be8c12 button');\n",
              "          quickchartButtonEl.style.display =\n",
              "            google.colab.kernel.accessAllowed ? 'block' : 'none';\n",
              "        })();\n",
              "      </script>\n",
              "    </div>\n",
              "\n",
              "    </div>\n",
              "  </div>\n"
            ],
            "application/vnd.google.colaboratory.intrinsic+json": {
              "type": "dataframe",
              "variable_name": "df_combined",
              "summary": "{\n  \"name\": \"df_combined\",\n  \"rows\": 828,\n  \"fields\": [\n    {\n      \"column\": \"Country\",\n      \"properties\": {\n        \"dtype\": \"category\",\n        \"num_unique_values\": 8,\n        \"samples\": [\n          \"Canada\",\n          \"Italy\",\n          \"USA\"\n        ],\n        \"semantic_type\": \"\",\n        \"description\": \"\"\n      }\n    },\n    {\n      \"column\": \"Tannual\",\n      \"properties\": {\n        \"dtype\": \"number\",\n        \"std\": 4.118162948978458,\n        \"min\": 3.3,\n        \"max\": 22.7,\n        \"num_unique_values\": 25,\n        \"samples\": [\n          12.8,\n          3.3,\n          19.6\n        ],\n        \"semantic_type\": \"\",\n        \"description\": \"\"\n      }\n    },\n    {\n      \"column\": \"Pannual\",\n      \"properties\": {\n        \"dtype\": \"number\",\n        \"std\": 298.0492976663113,\n        \"min\": 350.0,\n        \"max\": 1958.0,\n        \"num_unique_values\": 27,\n        \"samples\": [\n          1148.1,\n          604.0,\n          1769.0\n        ],\n        \"semantic_type\": \"\",\n        \"description\": \"\"\n      }\n    },\n    {\n      \"column\": \"OC\",\n      \"properties\": {\n        \"dtype\": \"number\",\n        \"std\": 1.1972130284095766,\n        \"min\": 0.017,\n        \"max\": 9.763,\n        \"num_unique_values\": 446,\n        \"samples\": [\n          5.67,\n          0.777,\n          0.172\n        ],\n        \"semantic_type\": \"\",\n        \"description\": \"\"\n      }\n    },\n    {\n      \"column\": \"Fertilization\",\n      \"properties\": {\n        \"dtype\": \"category\",\n        \"num_unique_values\": 45,\n        \"samples\": [\n          \"20 kg N/ha; 5000 kg straw/ha; [apparently only last year: 130 kg K2O/ha; 70 kg P2O5/ha]\",\n          \"120 kg N/ha\",\n          \"103 kg solid ammonium-nitrate\"\n        ],\n        \"semantic_type\": \"\",\n        \"description\": \"\"\n      }\n    },\n    {\n      \"column\": \"Tillage\",\n      \"properties\": {\n        \"dtype\": \"category\",\n        \"num_unique_values\": 4,\n        \"samples\": [\n          \"None\",\n          \"Conventional\",\n          \"Reduced\"\n        ],\n        \"semantic_type\": \"\",\n        \"description\": \"\"\n      }\n    },\n    {\n      \"column\": \"CoverCropGroup\",\n      \"properties\": {\n        \"dtype\": \"category\",\n        \"num_unique_values\": 11,\n        \"samples\": [\n          \"LG\",\n          \"LL\",\n          \"AVG\"\n        ],\n        \"semantic_type\": \"\",\n        \"description\": \"\"\n      }\n    },\n    {\n      \"column\": \"GrainCropGroup\",\n      \"properties\": {\n        \"dtype\": \"category\",\n        \"num_unique_values\": 12,\n        \"samples\": [\n          \"WO\",\n          \"Wheat\",\n          \"Corn\"\n        ],\n        \"semantic_type\": \"\",\n        \"description\": \"\"\n      }\n    },\n    {\n      \"column\": \"Conservation_Type\",\n      \"properties\": {\n        \"dtype\": \"category\",\n        \"num_unique_values\": 4,\n        \"samples\": [\n          \"CC-NT\",\n          \"None\",\n          \"CC\"\n        ],\n        \"semantic_type\": \"\",\n        \"description\": \"\"\n      }\n    },\n    {\n      \"column\": \"Type\",\n      \"properties\": {\n        \"dtype\": \"category\",\n        \"num_unique_values\": 2,\n        \"samples\": [\n          \"_C\",\n          \"_T\"\n        ],\n        \"semantic_type\": \"\",\n        \"description\": \"\"\n      }\n    }\n  ]\n}"
            }
          },
          "metadata": {},
          "execution_count": 66
        }
      ]
    },
    {
      "cell_type": "code",
      "source": [
        "print(df_combined['CoverCropGroup'].unique())"
      ],
      "metadata": {
        "colab": {
          "base_uri": "https://localhost:8080/"
        },
        "id": "GH0Hd5l3lp1y",
        "outputId": "49506abf-2703-4809-aa2b-33c9d453d63e"
      },
      "execution_count": null,
      "outputs": [
        {
          "output_type": "stream",
          "name": "stdout",
          "text": [
            "['LL' 'Legume' 'Rye' 'Grass' 'Brassica' 'LG' 'Mixed' 'BG' 'Not_available'\n",
            " 'AVG' 'None']\n"
          ]
        }
      ]
    },
    {
      "cell_type": "markdown",
      "source": [
        "LL is Legume\n",
        "LG, BG, and AVG are Mixed\n",
        "Not_available is Unknown (consistent with Tillage)"
      ],
      "metadata": {
        "id": "vFpHbfo_mHEb"
      }
    },
    {
      "cell_type": "code",
      "source": [
        "df_combined['CoverCropGroup'] = df_combined['CoverCropGroup'].replace('LL', 'Legume')\n",
        "df_combined['CoverCropGroup'] = df_combined['CoverCropGroup'].replace(['LG', 'BG', 'AVG'], 'Mixed')\n",
        "df_combined['CoverCropGroup'] = df_combined['CoverCropGroup'].replace('Not_available', 'Unknown')\n",
        "\n",
        "print(df_combined['CoverCropGroup'].unique())\n"
      ],
      "metadata": {
        "colab": {
          "base_uri": "https://localhost:8080/"
        },
        "id": "D6bMhBl1mBNF",
        "outputId": "abdf06cf-68b9-45b9-f59e-7b553f128f06"
      },
      "execution_count": null,
      "outputs": [
        {
          "output_type": "stream",
          "name": "stdout",
          "text": [
            "['Legume' 'Rye' 'Grass' 'Brassica' 'Mixed' 'Unknown' 'None']\n"
          ]
        }
      ]
    },
    {
      "cell_type": "code",
      "source": [
        "print(df_combined['GrainCropGroup'].unique())"
      ],
      "metadata": {
        "colab": {
          "base_uri": "https://localhost:8080/"
        },
        "id": "Fxvm2FtlmiSA",
        "outputId": "f64c91b8-dc78-4954-cf21-cf10726b3301"
      },
      "execution_count": null,
      "outputs": [
        {
          "output_type": "stream",
          "name": "stdout",
          "text": [
            "['Corn' 'Arable' 'Soybean' 'CS' 'Vegetable' 'CV' 'CO' 'MTT' 'CW' 'Wheat'\n",
            " 'WO' 'AVG']\n"
          ]
        }
      ]
    },
    {
      "cell_type": "markdown",
      "source": [
        "Monoculture: Corn, Soybean, Wheat, Arable\n",
        "Mono-Rotation: CS, CO, MTT, CW, WO\n",
        "Unknown: AVG\n"
      ],
      "metadata": {
        "id": "8h1M__WonOlG"
      }
    },
    {
      "cell_type": "code",
      "source": [
        "df_combined['GrainCropGroup'] = df_combined['GrainCropGroup'].replace(['Corn', 'Soybean', 'Wheat','Arable'], 'Monoculture')\n",
        "df_combined['GrainCropGroup'] = df_combined['GrainCropGroup'].replace(['CS', 'CO', 'MTT', 'CW', 'WO'], 'Monoculture-rotation')\n",
        "df_combined['GrainCropGroup'] = df_combined['GrainCropGroup'].replace('AVG', 'Unknown')\n",
        "df_combined['GrainCropGroup'] = df_combined['GrainCropGroup'].replace('CV', 'Vegetable')\n",
        "\n",
        "\n",
        "print(df_combined['GrainCropGroup'].unique())"
      ],
      "metadata": {
        "colab": {
          "base_uri": "https://localhost:8080/"
        },
        "id": "6v8aW53CnxpW",
        "outputId": "aafd8b66-0782-4785-9f30-3904c9d4f799"
      },
      "execution_count": null,
      "outputs": [
        {
          "output_type": "stream",
          "name": "stdout",
          "text": [
            "['Monoculture' 'Monoculture-rotation' 'Vegetable' 'Unknown']\n"
          ]
        }
      ]
    },
    {
      "cell_type": "code",
      "source": [
        "from google.colab import files\n",
        "\n",
        "# Export the DataFrame to a CSV file\n",
        "df_combined.to_csv('df_combined.csv', index=False)\n",
        "\n",
        "# Download the CSV file\n",
        "files.download('df_combined.csv')\n"
      ],
      "metadata": {
        "id": "pBYS2VzUooxc",
        "outputId": "dce5d431-4262-4c23-a945-48b5fda83549",
        "colab": {
          "base_uri": "https://localhost:8080/"
        }
      },
      "execution_count": null,
      "outputs": [
        {
          "output_type": "display_data",
          "data": {
            "text/plain": [
              "<IPython.core.display.Javascript object>"
            ],
            "application/javascript": [
              "\n",
              "    async function download(id, filename, size) {\n",
              "      if (!google.colab.kernel.accessAllowed) {\n",
              "        return;\n",
              "      }\n",
              "      const div = document.createElement('div');\n",
              "      const label = document.createElement('label');\n",
              "      label.textContent = `Downloading \"${filename}\": `;\n",
              "      div.appendChild(label);\n",
              "      const progress = document.createElement('progress');\n",
              "      progress.max = size;\n",
              "      div.appendChild(progress);\n",
              "      document.body.appendChild(div);\n",
              "\n",
              "      const buffers = [];\n",
              "      let downloaded = 0;\n",
              "\n",
              "      const channel = await google.colab.kernel.comms.open(id);\n",
              "      // Send a message to notify the kernel that we're ready.\n",
              "      channel.send({})\n",
              "\n",
              "      for await (const message of channel.messages) {\n",
              "        // Send a message to notify the kernel that we're ready.\n",
              "        channel.send({})\n",
              "        if (message.buffers) {\n",
              "          for (const buffer of message.buffers) {\n",
              "            buffers.push(buffer);\n",
              "            downloaded += buffer.byteLength;\n",
              "            progress.value = downloaded;\n",
              "          }\n",
              "        }\n",
              "      }\n",
              "      const blob = new Blob(buffers, {type: 'application/binary'});\n",
              "      const a = document.createElement('a');\n",
              "      a.href = window.URL.createObjectURL(blob);\n",
              "      a.download = filename;\n",
              "      div.appendChild(a);\n",
              "      a.click();\n",
              "      div.remove();\n",
              "    }\n",
              "  "
            ]
          },
          "metadata": {}
        },
        {
          "output_type": "display_data",
          "data": {
            "text/plain": [
              "<IPython.core.display.Javascript object>"
            ],
            "application/javascript": [
              "download(\"download_f388155a-7fcf-46af-b4ad-1efea1102194\", \"df_combined.csv\", 75009)"
            ]
          },
          "metadata": {}
        }
      ]
    }
  ]
}